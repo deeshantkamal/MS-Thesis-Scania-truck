{
  "cells": [
    {
      "cell_type": "markdown",
      "metadata": {
        "id": "HdUFp8iA86tB"
      },
      "source": [
        "## Setup"
      ]
    },
    {
      "cell_type": "code",
      "execution_count": 58,
      "metadata": {
        "collapsed": true,
        "id": "YfrxvDjo86tG"
      },
      "outputs": [],
      "source": [
        "import pandas as pd\n",
        "import numpy as np\n",
        "import matplotlib.pyplot as plt\n",
        "import seaborn as sns\n",
        "import warnings\n",
        "from IPython.display import display, Markdown\n",
        "\n",
        "from sklearn.feature_selection import SelectKBest, chi2, mutual_info_classif\n",
        "from sklearn.preprocessing import MinMaxScaler\n",
        "from sklearn.decomposition import PCA\n",
        "from sklearn.ensemble import GradientBoostingClassifier, RandomForestClassifier, RandomForestRegressor\n",
        "from sklearn.model_selection import cross_val_score, GridSearchCV\n",
        "from sklearn.metrics import classification_report, confusion_matrix\n",
        "from sklearn import svm\n",
        "\n",
        "import scipy.cluster.hierarchy as hac\n",
        "\n",
        "%matplotlib inline\n",
        "%config IPCompleter.greedy=True\n",
        "warnings.filterwarnings('ignore')"
      ]
    },
    {
      "cell_type": "markdown",
      "metadata": {
        "id": "9IOLJe-m86tI"
      },
      "source": [
        "Files path `../input/<file>`"
      ]
    },
    {
      "cell_type": "code",
      "execution_count": 59,
      "metadata": {
        "colab": {
          "base_uri": "https://localhost:8080/"
        },
        "id": "8XOKACXL9IaV",
        "outputId": "c44eee7a-3677-4fbe-d293-4d0b73de4ebb"
      },
      "outputs": [
        {
          "output_type": "stream",
          "name": "stdout",
          "text": [
            "Drive already mounted at /content/drive; to attempt to forcibly remount, call drive.mount(\"/content/drive\", force_remount=True).\n"
          ]
        }
      ],
      "source": [
        "from google.colab import drive\n",
        "\n",
        "drive.mount(\"/content/drive\")"
      ]
    },
    {
      "cell_type": "code",
      "execution_count": 60,
      "metadata": {
        "id": "4yFdP5yq9FBn"
      },
      "outputs": [],
      "source": [
        "import pandas as pd\n",
        "path = \"/content/drive/MyDrive/Thesis Data/aps_failure_training_set_processed_8bit.csv\"\n",
        "path_2 = \"/content/drive/MyDrive/Thesis Data/aps_failure_test_set_processed_8bit.csv\"\n",
        "\n",
        "train_features = pd.read_csv(path, na_values= 'na')\n",
        "test_features = pd.read_csv(path_2, na_values = 'na')\n",
        "data = train_features\n",
        "\n",
        "train_labels = train_features['class']\n",
        "test_labels = test_features['class']\n",
        "train_features = train_features.drop('class', axis=1)\n",
        "test_features = test_features.drop('class', axis=1)"
      ]
    },
    {
      "cell_type": "code",
      "source": [
        "# !pip install skimpy"
      ],
      "metadata": {
        "id": "Tuo5koqMYnuD"
      },
      "execution_count": 61,
      "outputs": []
    },
    {
      "cell_type": "code",
      "source": [
        "# !pip install dtale\n",
        "# import dtale\n",
        "# d = dtale.show(data)\n",
        "# d.open_browser()"
      ],
      "metadata": {
        "id": "LBYXOSK6eHCK"
      },
      "execution_count": 62,
      "outputs": []
    },
    {
      "cell_type": "code",
      "source": [
        "# d.open_browser()"
      ],
      "metadata": {
        "id": "JpdgiETCeoAV"
      },
      "execution_count": 63,
      "outputs": []
    },
    {
      "cell_type": "code",
      "source": [
        "# import dtale.app as dtale_app\n",
        "# dtale_app.USE_COLAB = True\n",
        "# dtale.show(data)"
      ],
      "metadata": {
        "id": "5jfO3y3KeyXW"
      },
      "execution_count": 64,
      "outputs": []
    },
    {
      "cell_type": "code",
      "source": [
        "# from skimpy import skim\n",
        "# skim(train_features)"
      ],
      "metadata": {
        "id": "l7q0taIZYg5L"
      },
      "execution_count": 65,
      "outputs": []
    },
    {
      "cell_type": "code",
      "source": [
        "# !pip install sweetviz\n",
        "\n",
        "# import pandas as pd\n",
        "# import sweetviz as sv\n",
        "\n",
        "# #EDA using Autoviz\n",
        "# sweet_report = sv.analyze(train_features)\n",
        "\n",
        "# #Saving results to HTML file\n",
        "# sweet_report.show_html('sweet_report.html')\n",
        "# sweet_report.show_notebook()\n",
        "# sweet_report.show_notebook(w=1500, h=300, scale=0.8)\n",
        "# sweet_report.show_html(scale=0.9)"
      ],
      "metadata": {
        "id": "ZXCcOOHslDRM"
      },
      "execution_count": 66,
      "outputs": []
    },
    {
      "cell_type": "code",
      "source": [],
      "metadata": {
        "id": "JoVrh9EnmFuy"
      },
      "execution_count": 66,
      "outputs": []
    },
    {
      "cell_type": "code",
      "source": [],
      "metadata": {
        "id": "1BE-6U4Vm4ST"
      },
      "execution_count": 66,
      "outputs": []
    },
    {
      "cell_type": "markdown",
      "metadata": {
        "collapsed": true,
        "id": "NaWZsBsY86tI"
      },
      "source": [
        "import os\n",
        "os.listdir('../input')"
      ]
    },
    {
      "cell_type": "markdown",
      "metadata": {
        "id": "v1DI4NrL86tI"
      },
      "source": [
        "### Setup hyperparameters"
      ]
    },
    {
      "cell_type": "code",
      "execution_count": 152,
      "metadata": {
        "collapsed": true,
        "id": "k4GE9NE686tJ"
      },
      "outputs": [],
      "source": [
        "# Set normalization\n",
        "enable_normalization = True\n",
        "normalization_type = 'minmax' # 'minmax' or 'standard'\n",
        "\n",
        "# Exploratory analysis\n",
        "\n",
        "# Set correlation\n",
        "enable_correlation = False\n",
        "enable_dendrogram = False\n",
        "enable_heatmap = False\n",
        "\n",
        "# Features Selection\n",
        "\n",
        "# Set features selection with correlation criteria\n",
        "enable_correlation_selec = False\n",
        "factor = 0.95 # number close to 1\n",
        "\n",
        "# Set features selection with univariate statitics test criteria\n",
        "enable_univariate_selec = True \n",
        "method_selec = 'pca' # 'selectkbest', 'pca', ...\n",
        "pca_variance = 0.95 \n",
        "criteria_k_best = chi2 # chi2, mutual_info_classif\n",
        "k_best = 84 # number of best features to select on select k best.\n",
        "\n",
        "# Balancing\n",
        "\n",
        "# Train balancing\n",
        "enable_balancing = True\n",
        "number_samples = 2500\n",
        "\n",
        "# Machine learning method\n",
        "\n",
        "ml_method = 'mlp'#'randomforestreg' #'mlp'# # 'gradientboosting', 'svm', ...\n",
        "gbc_loss = 'deviance' # gradient boosting loss\n",
        "rfc_criterion = 'gini' # random forest criterion\n",
        "enable_cv = True # enable cross-validation\n"
      ]
    },
    {
      "cell_type": "markdown",
      "metadata": {
        "id": "BpdRYXRU86tK"
      },
      "source": [
        "### Util functions"
      ]
    },
    {
      "cell_type": "code",
      "execution_count": 153,
      "metadata": {
        "collapsed": true,
        "id": "BTSkM1VK86tL"
      },
      "outputs": [],
      "source": [
        "# Print the bar graph from data\n",
        "def bar(acumm_data):\n",
        "    # Do plot\n",
        "    fig = plt.figure(figsize=(10,7))\n",
        "    ax = fig.add_subplot(111)\n",
        "    ax = sns.barplot(x=acumm_data.index, y=acumm_data.values, palette='tab20b', ax=ax)\n",
        "    ax.set_xticklabels(ax.get_xticklabels(), rotation=90)    \n",
        "    return ax\n",
        "\n",
        "def dendrogram(df):    \n",
        "    # Do correlation matrix\n",
        "    corr_matrix = df.corr()\n",
        "\n",
        "    # Do the clustering\n",
        "    Z = hac.linkage(corr_matrix, 'single')\n",
        "\n",
        "    # Plot dendogram\n",
        "    fig, ax = plt.subplots(figsize=(25, 10))\n",
        "    plt.title('Hierarchical Clustering Dendrogram')\n",
        "    plt.xlabel('sample index')\n",
        "    plt.ylabel('distance')\n",
        "    groups = hac.dendrogram(\n",
        "        Z,\n",
        "        leaf_rotation=90.,  # rotates the x axis labels\n",
        "        leaf_font_size=8., # font size for the x axis labels\n",
        "        color_threshold = 0#,\n",
        "        #truncate_mode='lastp',\n",
        "        #p=30\n",
        "    )\n",
        "\n",
        "    labels_dict = pd.DataFrame(df.columns).to_dict()[0]\n",
        "    actual_labels = [item.get_text() for item in ax.get_xticklabels()]\n",
        "    new_labels = [labels_dict[int(i)] for i in actual_labels]\n",
        "    ax.set_xticklabels(new_labels)\n",
        "    plt.tight_layout()\n",
        "\n",
        "def corr_drop(corr_m, factor=.9):\n",
        "    \n",
        "    global cm\n",
        "    cm = corr_m\n",
        "    # Get correlation score, as high as this score, more chances to be dropped.\n",
        "    cum_corr = cm.applymap(abs).sum()\n",
        "    def remove_corr():\n",
        "        global cm\n",
        "        for col in cm.columns:\n",
        "            for ind in cm.index:\n",
        "                if (ind in cm.columns) and (col in cm.index):\n",
        "                    # Compare if are high correlated.\n",
        "                    if (cm.loc[ind,col] > factor) and (ind!=col):\n",
        "                        cum = cum_corr[[ind,col]].sort_values(ascending=False)\n",
        "                        cm.drop(cum.index[0], axis=0, inplace=True)\n",
        "                        cm.drop(cum.index[0], axis=1, inplace=True)\n",
        "                        # Do recursion until the last high correlated.\n",
        "                        remove_corr()\n",
        "        return cm\n",
        "    return remove_corr()"
      ]
    },
    {
      "cell_type": "markdown",
      "metadata": {
        "id": "MRyE85Rg86tM"
      },
      "source": [
        "## Read data and sepair features from labels"
      ]
    },
    {
      "cell_type": "code",
      "execution_count": 154,
      "metadata": {
        "collapsed": true,
        "id": "rXCZgfsQ86tM"
      },
      "outputs": [],
      "source": [
        "path = \"/content/drive/MyDrive/Thesis Data/aps_failure_training_set_processed_8bit.csv\"\n",
        "path_2 = \"/content/drive/MyDrive/Thesis Data/aps_failure_test_set_processed_8bit.csv\"\n",
        "train_features = pd.read_csv(path, na_values= 'na')\n",
        "test_features = pd.read_csv(path_2, na_values = 'na')\n",
        "data = train_features\n",
        "train_labels = train_features['class']\n",
        "test_labels = test_features['class']\n",
        "train_features = train_features.drop('class', axis=1)\n",
        "test_features = test_features.drop('class', axis=1)"
      ]
    },
    {
      "cell_type": "code",
      "source": [
        "# # null chack\n",
        "# col = train_features.iloc[:,1:].columns\n",
        "# null_ratio = train_features.iloc[:,1:].isnull().sum().values / train_features.shape[0]*100\n",
        "\n",
        "# # Check by visualization\n",
        "# plt.figure(figsize=(20,8))\n",
        "# plt.plot(col, null_ratio)\n",
        "# plt.xlabel(\"variables\")\n",
        "# plt.ylabel(\"ratio(%)\")\n",
        "# plt.xticks(rotation=90, fontsize=10)\n",
        "# plt.title(\"Null ratio\")\n",
        "# plt.legend()"
      ],
      "metadata": {
        "id": "g1i3bz-QuNf2"
      },
      "execution_count": 155,
      "outputs": []
    },
    {
      "cell_type": "markdown",
      "metadata": {
        "id": "7O9WgO4E86tM"
      },
      "source": [
        "## Raw exploratory analysis"
      ]
    },
    {
      "cell_type": "code",
      "execution_count": 156,
      "metadata": {
        "colab": {
          "base_uri": "https://localhost:8080/",
          "height": 394
        },
        "collapsed": true,
        "id": "yBHBq6OR86tM",
        "outputId": "6553818b-e79e-4dbc-d8e0-48fc3ffa3abd"
      },
      "outputs": [
        {
          "output_type": "execute_result",
          "data": {
            "text/plain": [
              "             aa_000        ab_000        ac_000        ad_000        ae_000  \\\n",
              "count  60000.000000  60000.000000  60000.000000  60000.000000  60000.000000   \n",
              "mean      -0.124611     -0.071121     -0.198529     -0.007737     -0.033483   \n",
              "std        0.367680      0.356812      0.564872      0.004138      0.107086   \n",
              "min       -0.406250     -0.289062     -0.468750     -0.007812     -0.046875   \n",
              "25%       -0.398438     -0.289062     -0.468750     -0.007812     -0.046875   \n",
              "50%       -0.195312     -0.289062     -0.468750     -0.007812     -0.046875   \n",
              "75%       -0.070312      0.000000     -0.468750     -0.007812     -0.046875   \n",
              "max        0.992188      0.992188      0.992188      0.992188      0.992188   \n",
              "\n",
              "             af_000        ag_000        ag_001        ag_002        ag_003  \\\n",
              "count  60000.000000  60000.000000  60000.000000  60000.000000  60000.000000   \n",
              "mean      -0.040633     -0.006584     -0.026241     -0.040699     -0.074768   \n",
              "std        0.111752      0.032016      0.065200      0.105864      0.186822   \n",
              "min       -0.054688     -0.007812     -0.031250     -0.054688     -0.117188   \n",
              "25%       -0.054688     -0.007812     -0.031250     -0.054688     -0.117188   \n",
              "50%       -0.054688     -0.007812     -0.031250     -0.054688     -0.117188   \n",
              "75%       -0.054688     -0.007812     -0.031250     -0.054688     -0.117188   \n",
              "max        0.992188      0.992188      0.992188      0.992188      0.992188   \n",
              "\n",
              "       ...        ee_002        ee_003        ee_004        ee_005  \\\n",
              "count  ...  60000.000000  60000.000000  60000.000000  60000.000000   \n",
              "mean   ...     -0.104808     -0.098734     -0.094976     -0.089227   \n",
              "std    ...      0.356547      0.362066      0.363148      0.336121   \n",
              "min    ...     -0.382812     -0.382812     -0.382812     -0.351562   \n",
              "25%    ...     -0.382812     -0.382812     -0.375000     -0.343750   \n",
              "50%    ...     -0.179688     -0.179688     -0.195312     -0.179688   \n",
              "75%    ...     -0.007812      0.015625      0.015625      0.007812   \n",
              "max    ...      0.992188      0.992188      0.992188      0.992188   \n",
              "\n",
              "             ee_006        ee_007        ee_008        ee_009        ef_000  \\\n",
              "count  60000.000000  60000.000000  60000.000000  60000.000000  60000.000000   \n",
              "mean      -0.103374     -0.088961     -0.084540     -0.067471     -0.020035   \n",
              "std        0.320314      0.237613      0.363893      0.261009      0.051907   \n",
              "min       -0.312500     -0.195312     -0.304688     -0.171875     -0.023438   \n",
              "25%       -0.312500     -0.195312     -0.304688     -0.171875     -0.023438   \n",
              "50%       -0.226562     -0.171875     -0.296875     -0.171875     -0.023438   \n",
              "75%       -0.054688     -0.101562      0.000000     -0.132812     -0.023438   \n",
              "max        0.992188      0.992188      0.992188      0.992188      0.992188   \n",
              "\n",
              "             eg_000  \n",
              "count  60000.000000  \n",
              "mean      -0.018417  \n",
              "std        0.061751  \n",
              "min       -0.023438  \n",
              "25%       -0.023438  \n",
              "50%       -0.023438  \n",
              "75%       -0.023438  \n",
              "max        0.992188  \n",
              "\n",
              "[8 rows x 170 columns]"
            ],
            "text/html": [
              "\n",
              "  <div id=\"df-787f0347-2d09-4d09-9dbb-b55938b2300c\">\n",
              "    <div class=\"colab-df-container\">\n",
              "      <div>\n",
              "<style scoped>\n",
              "    .dataframe tbody tr th:only-of-type {\n",
              "        vertical-align: middle;\n",
              "    }\n",
              "\n",
              "    .dataframe tbody tr th {\n",
              "        vertical-align: top;\n",
              "    }\n",
              "\n",
              "    .dataframe thead th {\n",
              "        text-align: right;\n",
              "    }\n",
              "</style>\n",
              "<table border=\"1\" class=\"dataframe\">\n",
              "  <thead>\n",
              "    <tr style=\"text-align: right;\">\n",
              "      <th></th>\n",
              "      <th>aa_000</th>\n",
              "      <th>ab_000</th>\n",
              "      <th>ac_000</th>\n",
              "      <th>ad_000</th>\n",
              "      <th>ae_000</th>\n",
              "      <th>af_000</th>\n",
              "      <th>ag_000</th>\n",
              "      <th>ag_001</th>\n",
              "      <th>ag_002</th>\n",
              "      <th>ag_003</th>\n",
              "      <th>...</th>\n",
              "      <th>ee_002</th>\n",
              "      <th>ee_003</th>\n",
              "      <th>ee_004</th>\n",
              "      <th>ee_005</th>\n",
              "      <th>ee_006</th>\n",
              "      <th>ee_007</th>\n",
              "      <th>ee_008</th>\n",
              "      <th>ee_009</th>\n",
              "      <th>ef_000</th>\n",
              "      <th>eg_000</th>\n",
              "    </tr>\n",
              "  </thead>\n",
              "  <tbody>\n",
              "    <tr>\n",
              "      <th>count</th>\n",
              "      <td>60000.000000</td>\n",
              "      <td>60000.000000</td>\n",
              "      <td>60000.000000</td>\n",
              "      <td>60000.000000</td>\n",
              "      <td>60000.000000</td>\n",
              "      <td>60000.000000</td>\n",
              "      <td>60000.000000</td>\n",
              "      <td>60000.000000</td>\n",
              "      <td>60000.000000</td>\n",
              "      <td>60000.000000</td>\n",
              "      <td>...</td>\n",
              "      <td>60000.000000</td>\n",
              "      <td>60000.000000</td>\n",
              "      <td>60000.000000</td>\n",
              "      <td>60000.000000</td>\n",
              "      <td>60000.000000</td>\n",
              "      <td>60000.000000</td>\n",
              "      <td>60000.000000</td>\n",
              "      <td>60000.000000</td>\n",
              "      <td>60000.000000</td>\n",
              "      <td>60000.000000</td>\n",
              "    </tr>\n",
              "    <tr>\n",
              "      <th>mean</th>\n",
              "      <td>-0.124611</td>\n",
              "      <td>-0.071121</td>\n",
              "      <td>-0.198529</td>\n",
              "      <td>-0.007737</td>\n",
              "      <td>-0.033483</td>\n",
              "      <td>-0.040633</td>\n",
              "      <td>-0.006584</td>\n",
              "      <td>-0.026241</td>\n",
              "      <td>-0.040699</td>\n",
              "      <td>-0.074768</td>\n",
              "      <td>...</td>\n",
              "      <td>-0.104808</td>\n",
              "      <td>-0.098734</td>\n",
              "      <td>-0.094976</td>\n",
              "      <td>-0.089227</td>\n",
              "      <td>-0.103374</td>\n",
              "      <td>-0.088961</td>\n",
              "      <td>-0.084540</td>\n",
              "      <td>-0.067471</td>\n",
              "      <td>-0.020035</td>\n",
              "      <td>-0.018417</td>\n",
              "    </tr>\n",
              "    <tr>\n",
              "      <th>std</th>\n",
              "      <td>0.367680</td>\n",
              "      <td>0.356812</td>\n",
              "      <td>0.564872</td>\n",
              "      <td>0.004138</td>\n",
              "      <td>0.107086</td>\n",
              "      <td>0.111752</td>\n",
              "      <td>0.032016</td>\n",
              "      <td>0.065200</td>\n",
              "      <td>0.105864</td>\n",
              "      <td>0.186822</td>\n",
              "      <td>...</td>\n",
              "      <td>0.356547</td>\n",
              "      <td>0.362066</td>\n",
              "      <td>0.363148</td>\n",
              "      <td>0.336121</td>\n",
              "      <td>0.320314</td>\n",
              "      <td>0.237613</td>\n",
              "      <td>0.363893</td>\n",
              "      <td>0.261009</td>\n",
              "      <td>0.051907</td>\n",
              "      <td>0.061751</td>\n",
              "    </tr>\n",
              "    <tr>\n",
              "      <th>min</th>\n",
              "      <td>-0.406250</td>\n",
              "      <td>-0.289062</td>\n",
              "      <td>-0.468750</td>\n",
              "      <td>-0.007812</td>\n",
              "      <td>-0.046875</td>\n",
              "      <td>-0.054688</td>\n",
              "      <td>-0.007812</td>\n",
              "      <td>-0.031250</td>\n",
              "      <td>-0.054688</td>\n",
              "      <td>-0.117188</td>\n",
              "      <td>...</td>\n",
              "      <td>-0.382812</td>\n",
              "      <td>-0.382812</td>\n",
              "      <td>-0.382812</td>\n",
              "      <td>-0.351562</td>\n",
              "      <td>-0.312500</td>\n",
              "      <td>-0.195312</td>\n",
              "      <td>-0.304688</td>\n",
              "      <td>-0.171875</td>\n",
              "      <td>-0.023438</td>\n",
              "      <td>-0.023438</td>\n",
              "    </tr>\n",
              "    <tr>\n",
              "      <th>25%</th>\n",
              "      <td>-0.398438</td>\n",
              "      <td>-0.289062</td>\n",
              "      <td>-0.468750</td>\n",
              "      <td>-0.007812</td>\n",
              "      <td>-0.046875</td>\n",
              "      <td>-0.054688</td>\n",
              "      <td>-0.007812</td>\n",
              "      <td>-0.031250</td>\n",
              "      <td>-0.054688</td>\n",
              "      <td>-0.117188</td>\n",
              "      <td>...</td>\n",
              "      <td>-0.382812</td>\n",
              "      <td>-0.382812</td>\n",
              "      <td>-0.375000</td>\n",
              "      <td>-0.343750</td>\n",
              "      <td>-0.312500</td>\n",
              "      <td>-0.195312</td>\n",
              "      <td>-0.304688</td>\n",
              "      <td>-0.171875</td>\n",
              "      <td>-0.023438</td>\n",
              "      <td>-0.023438</td>\n",
              "    </tr>\n",
              "    <tr>\n",
              "      <th>50%</th>\n",
              "      <td>-0.195312</td>\n",
              "      <td>-0.289062</td>\n",
              "      <td>-0.468750</td>\n",
              "      <td>-0.007812</td>\n",
              "      <td>-0.046875</td>\n",
              "      <td>-0.054688</td>\n",
              "      <td>-0.007812</td>\n",
              "      <td>-0.031250</td>\n",
              "      <td>-0.054688</td>\n",
              "      <td>-0.117188</td>\n",
              "      <td>...</td>\n",
              "      <td>-0.179688</td>\n",
              "      <td>-0.179688</td>\n",
              "      <td>-0.195312</td>\n",
              "      <td>-0.179688</td>\n",
              "      <td>-0.226562</td>\n",
              "      <td>-0.171875</td>\n",
              "      <td>-0.296875</td>\n",
              "      <td>-0.171875</td>\n",
              "      <td>-0.023438</td>\n",
              "      <td>-0.023438</td>\n",
              "    </tr>\n",
              "    <tr>\n",
              "      <th>75%</th>\n",
              "      <td>-0.070312</td>\n",
              "      <td>0.000000</td>\n",
              "      <td>-0.468750</td>\n",
              "      <td>-0.007812</td>\n",
              "      <td>-0.046875</td>\n",
              "      <td>-0.054688</td>\n",
              "      <td>-0.007812</td>\n",
              "      <td>-0.031250</td>\n",
              "      <td>-0.054688</td>\n",
              "      <td>-0.117188</td>\n",
              "      <td>...</td>\n",
              "      <td>-0.007812</td>\n",
              "      <td>0.015625</td>\n",
              "      <td>0.015625</td>\n",
              "      <td>0.007812</td>\n",
              "      <td>-0.054688</td>\n",
              "      <td>-0.101562</td>\n",
              "      <td>0.000000</td>\n",
              "      <td>-0.132812</td>\n",
              "      <td>-0.023438</td>\n",
              "      <td>-0.023438</td>\n",
              "    </tr>\n",
              "    <tr>\n",
              "      <th>max</th>\n",
              "      <td>0.992188</td>\n",
              "      <td>0.992188</td>\n",
              "      <td>0.992188</td>\n",
              "      <td>0.992188</td>\n",
              "      <td>0.992188</td>\n",
              "      <td>0.992188</td>\n",
              "      <td>0.992188</td>\n",
              "      <td>0.992188</td>\n",
              "      <td>0.992188</td>\n",
              "      <td>0.992188</td>\n",
              "      <td>...</td>\n",
              "      <td>0.992188</td>\n",
              "      <td>0.992188</td>\n",
              "      <td>0.992188</td>\n",
              "      <td>0.992188</td>\n",
              "      <td>0.992188</td>\n",
              "      <td>0.992188</td>\n",
              "      <td>0.992188</td>\n",
              "      <td>0.992188</td>\n",
              "      <td>0.992188</td>\n",
              "      <td>0.992188</td>\n",
              "    </tr>\n",
              "  </tbody>\n",
              "</table>\n",
              "<p>8 rows × 170 columns</p>\n",
              "</div>\n",
              "      <button class=\"colab-df-convert\" onclick=\"convertToInteractive('df-787f0347-2d09-4d09-9dbb-b55938b2300c')\"\n",
              "              title=\"Convert this dataframe to an interactive table.\"\n",
              "              style=\"display:none;\">\n",
              "        \n",
              "  <svg xmlns=\"http://www.w3.org/2000/svg\" height=\"24px\"viewBox=\"0 0 24 24\"\n",
              "       width=\"24px\">\n",
              "    <path d=\"M0 0h24v24H0V0z\" fill=\"none\"/>\n",
              "    <path d=\"M18.56 5.44l.94 2.06.94-2.06 2.06-.94-2.06-.94-.94-2.06-.94 2.06-2.06.94zm-11 1L8.5 8.5l.94-2.06 2.06-.94-2.06-.94L8.5 2.5l-.94 2.06-2.06.94zm10 10l.94 2.06.94-2.06 2.06-.94-2.06-.94-.94-2.06-.94 2.06-2.06.94z\"/><path d=\"M17.41 7.96l-1.37-1.37c-.4-.4-.92-.59-1.43-.59-.52 0-1.04.2-1.43.59L10.3 9.45l-7.72 7.72c-.78.78-.78 2.05 0 2.83L4 21.41c.39.39.9.59 1.41.59.51 0 1.02-.2 1.41-.59l7.78-7.78 2.81-2.81c.8-.78.8-2.07 0-2.86zM5.41 20L4 18.59l7.72-7.72 1.47 1.35L5.41 20z\"/>\n",
              "  </svg>\n",
              "      </button>\n",
              "      \n",
              "  <style>\n",
              "    .colab-df-container {\n",
              "      display:flex;\n",
              "      flex-wrap:wrap;\n",
              "      gap: 12px;\n",
              "    }\n",
              "\n",
              "    .colab-df-convert {\n",
              "      background-color: #E8F0FE;\n",
              "      border: none;\n",
              "      border-radius: 50%;\n",
              "      cursor: pointer;\n",
              "      display: none;\n",
              "      fill: #1967D2;\n",
              "      height: 32px;\n",
              "      padding: 0 0 0 0;\n",
              "      width: 32px;\n",
              "    }\n",
              "\n",
              "    .colab-df-convert:hover {\n",
              "      background-color: #E2EBFA;\n",
              "      box-shadow: 0px 1px 2px rgba(60, 64, 67, 0.3), 0px 1px 3px 1px rgba(60, 64, 67, 0.15);\n",
              "      fill: #174EA6;\n",
              "    }\n",
              "\n",
              "    [theme=dark] .colab-df-convert {\n",
              "      background-color: #3B4455;\n",
              "      fill: #D2E3FC;\n",
              "    }\n",
              "\n",
              "    [theme=dark] .colab-df-convert:hover {\n",
              "      background-color: #434B5C;\n",
              "      box-shadow: 0px 1px 3px 1px rgba(0, 0, 0, 0.15);\n",
              "      filter: drop-shadow(0px 1px 2px rgba(0, 0, 0, 0.3));\n",
              "      fill: #FFFFFF;\n",
              "    }\n",
              "  </style>\n",
              "\n",
              "      <script>\n",
              "        const buttonEl =\n",
              "          document.querySelector('#df-787f0347-2d09-4d09-9dbb-b55938b2300c button.colab-df-convert');\n",
              "        buttonEl.style.display =\n",
              "          google.colab.kernel.accessAllowed ? 'block' : 'none';\n",
              "\n",
              "        async function convertToInteractive(key) {\n",
              "          const element = document.querySelector('#df-787f0347-2d09-4d09-9dbb-b55938b2300c');\n",
              "          const dataTable =\n",
              "            await google.colab.kernel.invokeFunction('convertToInteractive',\n",
              "                                                     [key], {});\n",
              "          if (!dataTable) return;\n",
              "\n",
              "          const docLinkHtml = 'Like what you see? Visit the ' +\n",
              "            '<a target=\"_blank\" href=https://colab.research.google.com/notebooks/data_table.ipynb>data table notebook</a>'\n",
              "            + ' to learn more about interactive tables.';\n",
              "          element.innerHTML = '';\n",
              "          dataTable['output_type'] = 'display_data';\n",
              "          await google.colab.output.renderOutput(dataTable, element);\n",
              "          const docLink = document.createElement('div');\n",
              "          docLink.innerHTML = docLinkHtml;\n",
              "          element.appendChild(docLink);\n",
              "        }\n",
              "      </script>\n",
              "    </div>\n",
              "  </div>\n",
              "  "
            ]
          },
          "metadata": {},
          "execution_count": 156
        }
      ],
      "source": [
        "train_features.describe()"
      ]
    },
    {
      "cell_type": "code",
      "source": [
        "print(\"No. of columns not containing null values\")\n",
        "print(len(train_features.columns[train_features.notna().all()]))\n",
        "print(\"-\"*10)\n",
        "\n",
        "print(\"Total no. of columns in the dataframe\")\n",
        "print(len(train_features.columns))\n",
        "print(\"-\"*10)\n",
        "\n",
        "data.describe(include = 'all')"
      ],
      "metadata": {
        "colab": {
          "base_uri": "https://localhost:8080/",
          "height": 498
        },
        "id": "kQ7ek3WlL9rE",
        "outputId": "8852412b-7598-402a-bdab-252d1d981b6f"
      },
      "execution_count": 157,
      "outputs": [
        {
          "output_type": "stream",
          "name": "stdout",
          "text": [
            "No. of columns not containing null values\n",
            "170\n",
            "----------\n",
            "Total no. of columns in the dataframe\n",
            "170\n",
            "----------\n"
          ]
        },
        {
          "output_type": "execute_result",
          "data": {
            "text/plain": [
              "              class        aa_000        ab_000        ac_000        ad_000  \\\n",
              "count  60000.000000  60000.000000  60000.000000  60000.000000  60000.000000   \n",
              "mean      -0.959115     -0.124611     -0.071121     -0.198529     -0.007737   \n",
              "std        0.254040      0.367680      0.356812      0.564872      0.004138   \n",
              "min       -0.992188     -0.406250     -0.289062     -0.468750     -0.007812   \n",
              "25%       -0.992188     -0.398438     -0.289062     -0.468750     -0.007812   \n",
              "50%       -0.992188     -0.195312     -0.289062     -0.468750     -0.007812   \n",
              "75%       -0.992188     -0.070312      0.000000     -0.468750     -0.007812   \n",
              "max        0.992188      0.992188      0.992188      0.992188      0.992188   \n",
              "\n",
              "             ae_000        af_000        ag_000        ag_001        ag_002  \\\n",
              "count  60000.000000  60000.000000  60000.000000  60000.000000  60000.000000   \n",
              "mean      -0.033483     -0.040633     -0.006584     -0.026241     -0.040699   \n",
              "std        0.107086      0.111752      0.032016      0.065200      0.105864   \n",
              "min       -0.046875     -0.054688     -0.007812     -0.031250     -0.054688   \n",
              "25%       -0.046875     -0.054688     -0.007812     -0.031250     -0.054688   \n",
              "50%       -0.046875     -0.054688     -0.007812     -0.031250     -0.054688   \n",
              "75%       -0.046875     -0.054688     -0.007812     -0.031250     -0.054688   \n",
              "max        0.992188      0.992188      0.992188      0.992188      0.992188   \n",
              "\n",
              "       ...        ee_002        ee_003        ee_004        ee_005  \\\n",
              "count  ...  60000.000000  60000.000000  60000.000000  60000.000000   \n",
              "mean   ...     -0.104808     -0.098734     -0.094976     -0.089227   \n",
              "std    ...      0.356547      0.362066      0.363148      0.336121   \n",
              "min    ...     -0.382812     -0.382812     -0.382812     -0.351562   \n",
              "25%    ...     -0.382812     -0.382812     -0.375000     -0.343750   \n",
              "50%    ...     -0.179688     -0.179688     -0.195312     -0.179688   \n",
              "75%    ...     -0.007812      0.015625      0.015625      0.007812   \n",
              "max    ...      0.992188      0.992188      0.992188      0.992188   \n",
              "\n",
              "             ee_006        ee_007        ee_008        ee_009        ef_000  \\\n",
              "count  60000.000000  60000.000000  60000.000000  60000.000000  60000.000000   \n",
              "mean      -0.103374     -0.088961     -0.084540     -0.067471     -0.020035   \n",
              "std        0.320314      0.237613      0.363893      0.261009      0.051907   \n",
              "min       -0.312500     -0.195312     -0.304688     -0.171875     -0.023438   \n",
              "25%       -0.312500     -0.195312     -0.304688     -0.171875     -0.023438   \n",
              "50%       -0.226562     -0.171875     -0.296875     -0.171875     -0.023438   \n",
              "75%       -0.054688     -0.101562      0.000000     -0.132812     -0.023438   \n",
              "max        0.992188      0.992188      0.992188      0.992188      0.992188   \n",
              "\n",
              "             eg_000  \n",
              "count  60000.000000  \n",
              "mean      -0.018417  \n",
              "std        0.061751  \n",
              "min       -0.023438  \n",
              "25%       -0.023438  \n",
              "50%       -0.023438  \n",
              "75%       -0.023438  \n",
              "max        0.992188  \n",
              "\n",
              "[8 rows x 171 columns]"
            ],
            "text/html": [
              "\n",
              "  <div id=\"df-fcd3aae4-6158-487e-897d-10d0da3f4805\">\n",
              "    <div class=\"colab-df-container\">\n",
              "      <div>\n",
              "<style scoped>\n",
              "    .dataframe tbody tr th:only-of-type {\n",
              "        vertical-align: middle;\n",
              "    }\n",
              "\n",
              "    .dataframe tbody tr th {\n",
              "        vertical-align: top;\n",
              "    }\n",
              "\n",
              "    .dataframe thead th {\n",
              "        text-align: right;\n",
              "    }\n",
              "</style>\n",
              "<table border=\"1\" class=\"dataframe\">\n",
              "  <thead>\n",
              "    <tr style=\"text-align: right;\">\n",
              "      <th></th>\n",
              "      <th>class</th>\n",
              "      <th>aa_000</th>\n",
              "      <th>ab_000</th>\n",
              "      <th>ac_000</th>\n",
              "      <th>ad_000</th>\n",
              "      <th>ae_000</th>\n",
              "      <th>af_000</th>\n",
              "      <th>ag_000</th>\n",
              "      <th>ag_001</th>\n",
              "      <th>ag_002</th>\n",
              "      <th>...</th>\n",
              "      <th>ee_002</th>\n",
              "      <th>ee_003</th>\n",
              "      <th>ee_004</th>\n",
              "      <th>ee_005</th>\n",
              "      <th>ee_006</th>\n",
              "      <th>ee_007</th>\n",
              "      <th>ee_008</th>\n",
              "      <th>ee_009</th>\n",
              "      <th>ef_000</th>\n",
              "      <th>eg_000</th>\n",
              "    </tr>\n",
              "  </thead>\n",
              "  <tbody>\n",
              "    <tr>\n",
              "      <th>count</th>\n",
              "      <td>60000.000000</td>\n",
              "      <td>60000.000000</td>\n",
              "      <td>60000.000000</td>\n",
              "      <td>60000.000000</td>\n",
              "      <td>60000.000000</td>\n",
              "      <td>60000.000000</td>\n",
              "      <td>60000.000000</td>\n",
              "      <td>60000.000000</td>\n",
              "      <td>60000.000000</td>\n",
              "      <td>60000.000000</td>\n",
              "      <td>...</td>\n",
              "      <td>60000.000000</td>\n",
              "      <td>60000.000000</td>\n",
              "      <td>60000.000000</td>\n",
              "      <td>60000.000000</td>\n",
              "      <td>60000.000000</td>\n",
              "      <td>60000.000000</td>\n",
              "      <td>60000.000000</td>\n",
              "      <td>60000.000000</td>\n",
              "      <td>60000.000000</td>\n",
              "      <td>60000.000000</td>\n",
              "    </tr>\n",
              "    <tr>\n",
              "      <th>mean</th>\n",
              "      <td>-0.959115</td>\n",
              "      <td>-0.124611</td>\n",
              "      <td>-0.071121</td>\n",
              "      <td>-0.198529</td>\n",
              "      <td>-0.007737</td>\n",
              "      <td>-0.033483</td>\n",
              "      <td>-0.040633</td>\n",
              "      <td>-0.006584</td>\n",
              "      <td>-0.026241</td>\n",
              "      <td>-0.040699</td>\n",
              "      <td>...</td>\n",
              "      <td>-0.104808</td>\n",
              "      <td>-0.098734</td>\n",
              "      <td>-0.094976</td>\n",
              "      <td>-0.089227</td>\n",
              "      <td>-0.103374</td>\n",
              "      <td>-0.088961</td>\n",
              "      <td>-0.084540</td>\n",
              "      <td>-0.067471</td>\n",
              "      <td>-0.020035</td>\n",
              "      <td>-0.018417</td>\n",
              "    </tr>\n",
              "    <tr>\n",
              "      <th>std</th>\n",
              "      <td>0.254040</td>\n",
              "      <td>0.367680</td>\n",
              "      <td>0.356812</td>\n",
              "      <td>0.564872</td>\n",
              "      <td>0.004138</td>\n",
              "      <td>0.107086</td>\n",
              "      <td>0.111752</td>\n",
              "      <td>0.032016</td>\n",
              "      <td>0.065200</td>\n",
              "      <td>0.105864</td>\n",
              "      <td>...</td>\n",
              "      <td>0.356547</td>\n",
              "      <td>0.362066</td>\n",
              "      <td>0.363148</td>\n",
              "      <td>0.336121</td>\n",
              "      <td>0.320314</td>\n",
              "      <td>0.237613</td>\n",
              "      <td>0.363893</td>\n",
              "      <td>0.261009</td>\n",
              "      <td>0.051907</td>\n",
              "      <td>0.061751</td>\n",
              "    </tr>\n",
              "    <tr>\n",
              "      <th>min</th>\n",
              "      <td>-0.992188</td>\n",
              "      <td>-0.406250</td>\n",
              "      <td>-0.289062</td>\n",
              "      <td>-0.468750</td>\n",
              "      <td>-0.007812</td>\n",
              "      <td>-0.046875</td>\n",
              "      <td>-0.054688</td>\n",
              "      <td>-0.007812</td>\n",
              "      <td>-0.031250</td>\n",
              "      <td>-0.054688</td>\n",
              "      <td>...</td>\n",
              "      <td>-0.382812</td>\n",
              "      <td>-0.382812</td>\n",
              "      <td>-0.382812</td>\n",
              "      <td>-0.351562</td>\n",
              "      <td>-0.312500</td>\n",
              "      <td>-0.195312</td>\n",
              "      <td>-0.304688</td>\n",
              "      <td>-0.171875</td>\n",
              "      <td>-0.023438</td>\n",
              "      <td>-0.023438</td>\n",
              "    </tr>\n",
              "    <tr>\n",
              "      <th>25%</th>\n",
              "      <td>-0.992188</td>\n",
              "      <td>-0.398438</td>\n",
              "      <td>-0.289062</td>\n",
              "      <td>-0.468750</td>\n",
              "      <td>-0.007812</td>\n",
              "      <td>-0.046875</td>\n",
              "      <td>-0.054688</td>\n",
              "      <td>-0.007812</td>\n",
              "      <td>-0.031250</td>\n",
              "      <td>-0.054688</td>\n",
              "      <td>...</td>\n",
              "      <td>-0.382812</td>\n",
              "      <td>-0.382812</td>\n",
              "      <td>-0.375000</td>\n",
              "      <td>-0.343750</td>\n",
              "      <td>-0.312500</td>\n",
              "      <td>-0.195312</td>\n",
              "      <td>-0.304688</td>\n",
              "      <td>-0.171875</td>\n",
              "      <td>-0.023438</td>\n",
              "      <td>-0.023438</td>\n",
              "    </tr>\n",
              "    <tr>\n",
              "      <th>50%</th>\n",
              "      <td>-0.992188</td>\n",
              "      <td>-0.195312</td>\n",
              "      <td>-0.289062</td>\n",
              "      <td>-0.468750</td>\n",
              "      <td>-0.007812</td>\n",
              "      <td>-0.046875</td>\n",
              "      <td>-0.054688</td>\n",
              "      <td>-0.007812</td>\n",
              "      <td>-0.031250</td>\n",
              "      <td>-0.054688</td>\n",
              "      <td>...</td>\n",
              "      <td>-0.179688</td>\n",
              "      <td>-0.179688</td>\n",
              "      <td>-0.195312</td>\n",
              "      <td>-0.179688</td>\n",
              "      <td>-0.226562</td>\n",
              "      <td>-0.171875</td>\n",
              "      <td>-0.296875</td>\n",
              "      <td>-0.171875</td>\n",
              "      <td>-0.023438</td>\n",
              "      <td>-0.023438</td>\n",
              "    </tr>\n",
              "    <tr>\n",
              "      <th>75%</th>\n",
              "      <td>-0.992188</td>\n",
              "      <td>-0.070312</td>\n",
              "      <td>0.000000</td>\n",
              "      <td>-0.468750</td>\n",
              "      <td>-0.007812</td>\n",
              "      <td>-0.046875</td>\n",
              "      <td>-0.054688</td>\n",
              "      <td>-0.007812</td>\n",
              "      <td>-0.031250</td>\n",
              "      <td>-0.054688</td>\n",
              "      <td>...</td>\n",
              "      <td>-0.007812</td>\n",
              "      <td>0.015625</td>\n",
              "      <td>0.015625</td>\n",
              "      <td>0.007812</td>\n",
              "      <td>-0.054688</td>\n",
              "      <td>-0.101562</td>\n",
              "      <td>0.000000</td>\n",
              "      <td>-0.132812</td>\n",
              "      <td>-0.023438</td>\n",
              "      <td>-0.023438</td>\n",
              "    </tr>\n",
              "    <tr>\n",
              "      <th>max</th>\n",
              "      <td>0.992188</td>\n",
              "      <td>0.992188</td>\n",
              "      <td>0.992188</td>\n",
              "      <td>0.992188</td>\n",
              "      <td>0.992188</td>\n",
              "      <td>0.992188</td>\n",
              "      <td>0.992188</td>\n",
              "      <td>0.992188</td>\n",
              "      <td>0.992188</td>\n",
              "      <td>0.992188</td>\n",
              "      <td>...</td>\n",
              "      <td>0.992188</td>\n",
              "      <td>0.992188</td>\n",
              "      <td>0.992188</td>\n",
              "      <td>0.992188</td>\n",
              "      <td>0.992188</td>\n",
              "      <td>0.992188</td>\n",
              "      <td>0.992188</td>\n",
              "      <td>0.992188</td>\n",
              "      <td>0.992188</td>\n",
              "      <td>0.992188</td>\n",
              "    </tr>\n",
              "  </tbody>\n",
              "</table>\n",
              "<p>8 rows × 171 columns</p>\n",
              "</div>\n",
              "      <button class=\"colab-df-convert\" onclick=\"convertToInteractive('df-fcd3aae4-6158-487e-897d-10d0da3f4805')\"\n",
              "              title=\"Convert this dataframe to an interactive table.\"\n",
              "              style=\"display:none;\">\n",
              "        \n",
              "  <svg xmlns=\"http://www.w3.org/2000/svg\" height=\"24px\"viewBox=\"0 0 24 24\"\n",
              "       width=\"24px\">\n",
              "    <path d=\"M0 0h24v24H0V0z\" fill=\"none\"/>\n",
              "    <path d=\"M18.56 5.44l.94 2.06.94-2.06 2.06-.94-2.06-.94-.94-2.06-.94 2.06-2.06.94zm-11 1L8.5 8.5l.94-2.06 2.06-.94-2.06-.94L8.5 2.5l-.94 2.06-2.06.94zm10 10l.94 2.06.94-2.06 2.06-.94-2.06-.94-.94-2.06-.94 2.06-2.06.94z\"/><path d=\"M17.41 7.96l-1.37-1.37c-.4-.4-.92-.59-1.43-.59-.52 0-1.04.2-1.43.59L10.3 9.45l-7.72 7.72c-.78.78-.78 2.05 0 2.83L4 21.41c.39.39.9.59 1.41.59.51 0 1.02-.2 1.41-.59l7.78-7.78 2.81-2.81c.8-.78.8-2.07 0-2.86zM5.41 20L4 18.59l7.72-7.72 1.47 1.35L5.41 20z\"/>\n",
              "  </svg>\n",
              "      </button>\n",
              "      \n",
              "  <style>\n",
              "    .colab-df-container {\n",
              "      display:flex;\n",
              "      flex-wrap:wrap;\n",
              "      gap: 12px;\n",
              "    }\n",
              "\n",
              "    .colab-df-convert {\n",
              "      background-color: #E8F0FE;\n",
              "      border: none;\n",
              "      border-radius: 50%;\n",
              "      cursor: pointer;\n",
              "      display: none;\n",
              "      fill: #1967D2;\n",
              "      height: 32px;\n",
              "      padding: 0 0 0 0;\n",
              "      width: 32px;\n",
              "    }\n",
              "\n",
              "    .colab-df-convert:hover {\n",
              "      background-color: #E2EBFA;\n",
              "      box-shadow: 0px 1px 2px rgba(60, 64, 67, 0.3), 0px 1px 3px 1px rgba(60, 64, 67, 0.15);\n",
              "      fill: #174EA6;\n",
              "    }\n",
              "\n",
              "    [theme=dark] .colab-df-convert {\n",
              "      background-color: #3B4455;\n",
              "      fill: #D2E3FC;\n",
              "    }\n",
              "\n",
              "    [theme=dark] .colab-df-convert:hover {\n",
              "      background-color: #434B5C;\n",
              "      box-shadow: 0px 1px 3px 1px rgba(0, 0, 0, 0.15);\n",
              "      filter: drop-shadow(0px 1px 2px rgba(0, 0, 0, 0.3));\n",
              "      fill: #FFFFFF;\n",
              "    }\n",
              "  </style>\n",
              "\n",
              "      <script>\n",
              "        const buttonEl =\n",
              "          document.querySelector('#df-fcd3aae4-6158-487e-897d-10d0da3f4805 button.colab-df-convert');\n",
              "        buttonEl.style.display =\n",
              "          google.colab.kernel.accessAllowed ? 'block' : 'none';\n",
              "\n",
              "        async function convertToInteractive(key) {\n",
              "          const element = document.querySelector('#df-fcd3aae4-6158-487e-897d-10d0da3f4805');\n",
              "          const dataTable =\n",
              "            await google.colab.kernel.invokeFunction('convertToInteractive',\n",
              "                                                     [key], {});\n",
              "          if (!dataTable) return;\n",
              "\n",
              "          const docLinkHtml = 'Like what you see? Visit the ' +\n",
              "            '<a target=\"_blank\" href=https://colab.research.google.com/notebooks/data_table.ipynb>data table notebook</a>'\n",
              "            + ' to learn more about interactive tables.';\n",
              "          element.innerHTML = '';\n",
              "          dataTable['output_type'] = 'display_data';\n",
              "          await google.colab.output.renderOutput(dataTable, element);\n",
              "          const docLink = document.createElement('div');\n",
              "          docLink.innerHTML = docLinkHtml;\n",
              "          element.appendChild(docLink);\n",
              "        }\n",
              "      </script>\n",
              "    </div>\n",
              "  </div>\n",
              "  "
            ]
          },
          "metadata": {},
          "execution_count": 157
        }
      ]
    },
    {
      "cell_type": "code",
      "source": [
        "# columns_list = train_features.columns\n",
        "\n",
        "# from collections import Counter\n",
        "# import matplotlib.pyplot as plt\n",
        "# def get_tag(name):\n",
        "#     return name.split(\"_\")[0]\n",
        "\n",
        "# all_columns_with_tags = [a for a in columns_list if \"_\" in a]\n",
        "# all_tags = [get_tag(a) for a in all_columns_with_tags]\n",
        "# hists = [k for k,v in Counter(all_tags).items() if v == 10]\n",
        "# hists_columns = [k for k in all_columns_with_tags if get_tag(k) in hists]\n",
        "# hists_dict = {k:[col for col in hists_columns if k in col] for k in hists if get_tag(k) in hists}\n",
        "# counter_columns = [k for k in all_columns_with_tags if get_tag(k) not in hists]"
      ],
      "metadata": {
        "id": "jnP8b3H8RfFU"
      },
      "execution_count": 158,
      "outputs": []
    },
    {
      "cell_type": "code",
      "source": [
        "# font = {'family' : 'normal',\n",
        "#         'weight' : 'normal',\n",
        "#         'size'   : 12}\n",
        "# plt.rc('font', **font)\n",
        "# df_dist = {}\n",
        "# for dist in hists:\n",
        "#     pds_to_concat = []\n",
        "#     for i,col in enumerate(hists_dict[dist]):\n",
        "#         temp = data[[col,'Class']]\n",
        "#         temp[\"ref\"] = col\n",
        "#         temp.loc[temp[col]>=0,col] = np.log(temp[col]+1)\n",
        "#         temp.columns = [\"data\",\"Class\",\"ref\"]\n",
        "#         pds_to_concat.append(temp)\n",
        "#     df_dist[dist] = pd.concat(pds_to_concat)\n",
        "#     df_dist[dist] = df_dist[dist][df_dist[dist].data>=0] # No NA values\n",
        "# #ag_dist.data = np.log(ag_dist.data+1)\n",
        "# fig , axs = plt.subplots(7)\n",
        "# fig.set_figheight(15)\n",
        "# fig.set_figwidth(15)\n",
        "# #sns.boxenplot(data=ag_dist,x=\"ref\",y=\"data\",hue=\"class\",outlier_prop=0.00000000001)\n",
        "# for i,hist in enumerate(hists):\n",
        "#     sns.violinplot(data=df_dist[hist],x=\"ref\",y=\"data\",hue=\"Class\",scale=\"width\",scale_hue=True\n",
        "#                    , split=True,ax=axs[i],legend=(i==0));\n",
        "# fig.text(0.04, 0.5, 'Distribution of each feature per outcome', va='center', rotation='vertical');"
      ],
      "metadata": {
        "id": "diMCJ2YgRSYD"
      },
      "execution_count": 159,
      "outputs": []
    },
    {
      "cell_type": "code",
      "source": [
        "# corr = df_num.drop('SalePrice', axis=1).corr() # We already examined SalePrice correlations\n",
        "# plt.figure(figsize=(12, 10))\n",
        "\n",
        "# sns.heatmap(corr[(corr >= 0.5) | (corr <= -0.4)], \n",
        "#             cmap='viridis', vmax=1.0, vmin=-1.0, linewidths=0.1,\n",
        "#             annot=True, annot_kws={\"size\": 8}, square=True);"
      ],
      "metadata": {
        "id": "LbcqOb2NJ_Fz"
      },
      "execution_count": 160,
      "outputs": []
    },
    {
      "cell_type": "code",
      "source": [],
      "metadata": {
        "id": "qFXaADMWJ-KD"
      },
      "execution_count": 160,
      "outputs": []
    },
    {
      "cell_type": "code",
      "source": [
        "# # Discrete Variable Correlation by Failure using\n",
        "# # group by aka pivot table: https://pandas.pydata.org/pandas-docs/stable/generated/pandas.DataFrame.groupby.html\n",
        "# for x in data1_x:\n",
        "#     if data1[x].dtype != 'float64' :\n",
        "#         print('Failure Correlation by:', x)\n",
        "#         print(data1[[x, Target[0]]].groupby(x, as_index=False).mean())\n",
        "#         print('-'*10, '\\n')"
      ],
      "metadata": {
        "id": "moJBnHxMpkHV"
      },
      "execution_count": 161,
      "outputs": []
    },
    {
      "cell_type": "code",
      "source": [],
      "metadata": {
        "id": "QOWhKmqdpj9x"
      },
      "execution_count": 161,
      "outputs": []
    },
    {
      "cell_type": "code",
      "source": [],
      "metadata": {
        "id": "FWBmUhTgpjwE"
      },
      "execution_count": 161,
      "outputs": []
    },
    {
      "cell_type": "markdown",
      "metadata": {
        "id": "A22uZOUH86tN"
      },
      "source": [
        "## Pre-processing"
      ]
    },
    {
      "cell_type": "markdown",
      "metadata": {
        "id": "et5a3Uws86tN"
      },
      "source": [
        "### Flat dataframe and check for non-valid values"
      ]
    },
    {
      "cell_type": "markdown",
      "metadata": {
        "id": "VLuw1crX86tN"
      },
      "source": [
        "If doesn't exist, it is considered non-valid."
      ]
    },
    {
      "cell_type": "code",
      "execution_count": 162,
      "metadata": {
        "colab": {
          "base_uri": "https://localhost:8080/"
        },
        "collapsed": true,
        "id": "E_s27XVU86tN",
        "outputId": "6a3ea3ed-7a28-492d-e997-33bf421c8fef"
      },
      "outputs": [
        {
          "output_type": "stream",
          "name": "stdout",
          "text": [
            "0% of data are non-valid.\n"
          ]
        }
      ],
      "source": [
        "flat_data = train_features.values.flatten()\n",
        "count=0\n",
        "for value in flat_data:\n",
        "    if value is not None:\n",
        "        continue\n",
        "    count+= 1\n",
        "pct_nan = round(100*count/len(flat_data))\n",
        "print(f'{pct_nan}% of data are non-valid.')"
      ]
    },
    {
      "cell_type": "markdown",
      "metadata": {
        "id": "SJu_p2HI86tN"
      },
      "source": [
        "### Scalling"
      ]
    },
    {
      "cell_type": "markdown",
      "metadata": {
        "id": "Rsw6_L0i86tO"
      },
      "source": [
        "Apply MinMaxScaler with values between 0 and 1."
      ]
    },
    {
      "cell_type": "markdown",
      "metadata": {
        "id": "HK-VpFns86tO"
      },
      "source": [
        "Ref: http://scikit-learn.org/stable/modules/generated/sklearn.preprocessing.MinMaxScaler.html"
      ]
    },
    {
      "cell_type": "code",
      "execution_count": 163,
      "metadata": {
        "collapsed": true,
        "id": "2CnBE9iC86tO"
      },
      "outputs": [],
      "source": [
        "from sklearn.preprocessing import MinMaxScaler\n",
        "if enable_normalization and normalization_type=='minmax':\n",
        "    scaler = MinMaxScaler()\n",
        "    scaler.fit(train_features)\n",
        "    train_features = pd.DataFrame(scaler.transform(train_features), columns=train_features.columns)"
      ]
    },
    {
      "cell_type": "markdown",
      "metadata": {
        "id": "74lx-ksZ86tO"
      },
      "source": [
        "Exploratory analysis after scalling."
      ]
    },
    {
      "cell_type": "code",
      "execution_count": 164,
      "metadata": {
        "colab": {
          "base_uri": "https://localhost:8080/",
          "height": 394
        },
        "collapsed": true,
        "id": "ch59fbGz86tO",
        "outputId": "552bc674-7da1-4e81-ea05-65228172a48e"
      },
      "outputs": [
        {
          "output_type": "execute_result",
          "data": {
            "text/plain": [
              "             aa_000        ab_000        ac_000        ad_000        ae_000  \\\n",
              "count  60000.000000  60000.000000  60000.000000  60000.000000  60000.000000   \n",
              "mean       0.201396      0.170101      0.184964      0.000076      0.012888   \n",
              "std        0.262922      0.278488      0.386650      0.004138      0.103060   \n",
              "min        0.000000      0.000000      0.000000      0.000000      0.000000   \n",
              "25%        0.005587      0.000000      0.000000      0.000000      0.000000   \n",
              "50%        0.150838      0.000000      0.000000      0.000000      0.000000   \n",
              "75%        0.240223      0.225610      0.000000      0.000000      0.000000   \n",
              "max        1.000000      1.000000      1.000000      1.000000      1.000000   \n",
              "\n",
              "             af_000        ag_000        ag_001        ag_002        ag_003  \\\n",
              "count  60000.000000  60000.000000  60000.000000  60000.000000  60000.000000   \n",
              "mean       0.013425      0.001228      0.004894      0.013362      0.038237   \n",
              "std        0.106749      0.032016      0.063707      0.101124      0.168403   \n",
              "min        0.000000      0.000000      0.000000      0.000000      0.000000   \n",
              "25%        0.000000      0.000000      0.000000      0.000000      0.000000   \n",
              "50%        0.000000      0.000000      0.000000      0.000000      0.000000   \n",
              "75%        0.000000      0.000000      0.000000      0.000000      0.000000   \n",
              "max        1.000000      1.000000      1.000000      1.000000      1.000000   \n",
              "\n",
              "       ...        ee_002        ee_003        ee_004        ee_005  \\\n",
              "count  ...  60000.000000  60000.000000  60000.000000  60000.000000   \n",
              "mean   ...      0.202185      0.206603      0.209336      0.195227   \n",
              "std    ...      0.259307      0.263321      0.264107      0.250137   \n",
              "min    ...      0.000000      0.000000      0.000000      0.000000   \n",
              "25%    ...      0.000000      0.000000      0.005682      0.005814   \n",
              "50%    ...      0.147727      0.147727      0.136364      0.127907   \n",
              "75%    ...      0.272727      0.289773      0.289773      0.267442   \n",
              "max    ...      1.000000      1.000000      1.000000      1.000000   \n",
              "\n",
              "             ee_006        ee_007        ee_008        ee_009        ef_000  \\\n",
              "count  60000.000000  60000.000000  60000.000000  60000.000000  60000.000000   \n",
              "mean       0.160288      0.089559      0.169752      0.089689      0.003350   \n",
              "std        0.245510      0.200095      0.280592      0.224222      0.051108   \n",
              "min        0.000000      0.000000      0.000000      0.000000      0.000000   \n",
              "25%        0.000000      0.000000      0.000000      0.000000      0.000000   \n",
              "50%        0.065868      0.019737      0.006024      0.000000      0.000000   \n",
              "75%        0.197605      0.078947      0.234940      0.033557      0.000000   \n",
              "max        1.000000      1.000000      1.000000      1.000000      1.000000   \n",
              "\n",
              "             eg_000  \n",
              "count  60000.000000  \n",
              "mean       0.004943  \n",
              "std        0.060801  \n",
              "min        0.000000  \n",
              "25%        0.000000  \n",
              "50%        0.000000  \n",
              "75%        0.000000  \n",
              "max        1.000000  \n",
              "\n",
              "[8 rows x 170 columns]"
            ],
            "text/html": [
              "\n",
              "  <div id=\"df-f3dc6ad5-adbf-4c49-9093-d5b7fa03a082\">\n",
              "    <div class=\"colab-df-container\">\n",
              "      <div>\n",
              "<style scoped>\n",
              "    .dataframe tbody tr th:only-of-type {\n",
              "        vertical-align: middle;\n",
              "    }\n",
              "\n",
              "    .dataframe tbody tr th {\n",
              "        vertical-align: top;\n",
              "    }\n",
              "\n",
              "    .dataframe thead th {\n",
              "        text-align: right;\n",
              "    }\n",
              "</style>\n",
              "<table border=\"1\" class=\"dataframe\">\n",
              "  <thead>\n",
              "    <tr style=\"text-align: right;\">\n",
              "      <th></th>\n",
              "      <th>aa_000</th>\n",
              "      <th>ab_000</th>\n",
              "      <th>ac_000</th>\n",
              "      <th>ad_000</th>\n",
              "      <th>ae_000</th>\n",
              "      <th>af_000</th>\n",
              "      <th>ag_000</th>\n",
              "      <th>ag_001</th>\n",
              "      <th>ag_002</th>\n",
              "      <th>ag_003</th>\n",
              "      <th>...</th>\n",
              "      <th>ee_002</th>\n",
              "      <th>ee_003</th>\n",
              "      <th>ee_004</th>\n",
              "      <th>ee_005</th>\n",
              "      <th>ee_006</th>\n",
              "      <th>ee_007</th>\n",
              "      <th>ee_008</th>\n",
              "      <th>ee_009</th>\n",
              "      <th>ef_000</th>\n",
              "      <th>eg_000</th>\n",
              "    </tr>\n",
              "  </thead>\n",
              "  <tbody>\n",
              "    <tr>\n",
              "      <th>count</th>\n",
              "      <td>60000.000000</td>\n",
              "      <td>60000.000000</td>\n",
              "      <td>60000.000000</td>\n",
              "      <td>60000.000000</td>\n",
              "      <td>60000.000000</td>\n",
              "      <td>60000.000000</td>\n",
              "      <td>60000.000000</td>\n",
              "      <td>60000.000000</td>\n",
              "      <td>60000.000000</td>\n",
              "      <td>60000.000000</td>\n",
              "      <td>...</td>\n",
              "      <td>60000.000000</td>\n",
              "      <td>60000.000000</td>\n",
              "      <td>60000.000000</td>\n",
              "      <td>60000.000000</td>\n",
              "      <td>60000.000000</td>\n",
              "      <td>60000.000000</td>\n",
              "      <td>60000.000000</td>\n",
              "      <td>60000.000000</td>\n",
              "      <td>60000.000000</td>\n",
              "      <td>60000.000000</td>\n",
              "    </tr>\n",
              "    <tr>\n",
              "      <th>mean</th>\n",
              "      <td>0.201396</td>\n",
              "      <td>0.170101</td>\n",
              "      <td>0.184964</td>\n",
              "      <td>0.000076</td>\n",
              "      <td>0.012888</td>\n",
              "      <td>0.013425</td>\n",
              "      <td>0.001228</td>\n",
              "      <td>0.004894</td>\n",
              "      <td>0.013362</td>\n",
              "      <td>0.038237</td>\n",
              "      <td>...</td>\n",
              "      <td>0.202185</td>\n",
              "      <td>0.206603</td>\n",
              "      <td>0.209336</td>\n",
              "      <td>0.195227</td>\n",
              "      <td>0.160288</td>\n",
              "      <td>0.089559</td>\n",
              "      <td>0.169752</td>\n",
              "      <td>0.089689</td>\n",
              "      <td>0.003350</td>\n",
              "      <td>0.004943</td>\n",
              "    </tr>\n",
              "    <tr>\n",
              "      <th>std</th>\n",
              "      <td>0.262922</td>\n",
              "      <td>0.278488</td>\n",
              "      <td>0.386650</td>\n",
              "      <td>0.004138</td>\n",
              "      <td>0.103060</td>\n",
              "      <td>0.106749</td>\n",
              "      <td>0.032016</td>\n",
              "      <td>0.063707</td>\n",
              "      <td>0.101124</td>\n",
              "      <td>0.168403</td>\n",
              "      <td>...</td>\n",
              "      <td>0.259307</td>\n",
              "      <td>0.263321</td>\n",
              "      <td>0.264107</td>\n",
              "      <td>0.250137</td>\n",
              "      <td>0.245510</td>\n",
              "      <td>0.200095</td>\n",
              "      <td>0.280592</td>\n",
              "      <td>0.224222</td>\n",
              "      <td>0.051108</td>\n",
              "      <td>0.060801</td>\n",
              "    </tr>\n",
              "    <tr>\n",
              "      <th>min</th>\n",
              "      <td>0.000000</td>\n",
              "      <td>0.000000</td>\n",
              "      <td>0.000000</td>\n",
              "      <td>0.000000</td>\n",
              "      <td>0.000000</td>\n",
              "      <td>0.000000</td>\n",
              "      <td>0.000000</td>\n",
              "      <td>0.000000</td>\n",
              "      <td>0.000000</td>\n",
              "      <td>0.000000</td>\n",
              "      <td>...</td>\n",
              "      <td>0.000000</td>\n",
              "      <td>0.000000</td>\n",
              "      <td>0.000000</td>\n",
              "      <td>0.000000</td>\n",
              "      <td>0.000000</td>\n",
              "      <td>0.000000</td>\n",
              "      <td>0.000000</td>\n",
              "      <td>0.000000</td>\n",
              "      <td>0.000000</td>\n",
              "      <td>0.000000</td>\n",
              "    </tr>\n",
              "    <tr>\n",
              "      <th>25%</th>\n",
              "      <td>0.005587</td>\n",
              "      <td>0.000000</td>\n",
              "      <td>0.000000</td>\n",
              "      <td>0.000000</td>\n",
              "      <td>0.000000</td>\n",
              "      <td>0.000000</td>\n",
              "      <td>0.000000</td>\n",
              "      <td>0.000000</td>\n",
              "      <td>0.000000</td>\n",
              "      <td>0.000000</td>\n",
              "      <td>...</td>\n",
              "      <td>0.000000</td>\n",
              "      <td>0.000000</td>\n",
              "      <td>0.005682</td>\n",
              "      <td>0.005814</td>\n",
              "      <td>0.000000</td>\n",
              "      <td>0.000000</td>\n",
              "      <td>0.000000</td>\n",
              "      <td>0.000000</td>\n",
              "      <td>0.000000</td>\n",
              "      <td>0.000000</td>\n",
              "    </tr>\n",
              "    <tr>\n",
              "      <th>50%</th>\n",
              "      <td>0.150838</td>\n",
              "      <td>0.000000</td>\n",
              "      <td>0.000000</td>\n",
              "      <td>0.000000</td>\n",
              "      <td>0.000000</td>\n",
              "      <td>0.000000</td>\n",
              "      <td>0.000000</td>\n",
              "      <td>0.000000</td>\n",
              "      <td>0.000000</td>\n",
              "      <td>0.000000</td>\n",
              "      <td>...</td>\n",
              "      <td>0.147727</td>\n",
              "      <td>0.147727</td>\n",
              "      <td>0.136364</td>\n",
              "      <td>0.127907</td>\n",
              "      <td>0.065868</td>\n",
              "      <td>0.019737</td>\n",
              "      <td>0.006024</td>\n",
              "      <td>0.000000</td>\n",
              "      <td>0.000000</td>\n",
              "      <td>0.000000</td>\n",
              "    </tr>\n",
              "    <tr>\n",
              "      <th>75%</th>\n",
              "      <td>0.240223</td>\n",
              "      <td>0.225610</td>\n",
              "      <td>0.000000</td>\n",
              "      <td>0.000000</td>\n",
              "      <td>0.000000</td>\n",
              "      <td>0.000000</td>\n",
              "      <td>0.000000</td>\n",
              "      <td>0.000000</td>\n",
              "      <td>0.000000</td>\n",
              "      <td>0.000000</td>\n",
              "      <td>...</td>\n",
              "      <td>0.272727</td>\n",
              "      <td>0.289773</td>\n",
              "      <td>0.289773</td>\n",
              "      <td>0.267442</td>\n",
              "      <td>0.197605</td>\n",
              "      <td>0.078947</td>\n",
              "      <td>0.234940</td>\n",
              "      <td>0.033557</td>\n",
              "      <td>0.000000</td>\n",
              "      <td>0.000000</td>\n",
              "    </tr>\n",
              "    <tr>\n",
              "      <th>max</th>\n",
              "      <td>1.000000</td>\n",
              "      <td>1.000000</td>\n",
              "      <td>1.000000</td>\n",
              "      <td>1.000000</td>\n",
              "      <td>1.000000</td>\n",
              "      <td>1.000000</td>\n",
              "      <td>1.000000</td>\n",
              "      <td>1.000000</td>\n",
              "      <td>1.000000</td>\n",
              "      <td>1.000000</td>\n",
              "      <td>...</td>\n",
              "      <td>1.000000</td>\n",
              "      <td>1.000000</td>\n",
              "      <td>1.000000</td>\n",
              "      <td>1.000000</td>\n",
              "      <td>1.000000</td>\n",
              "      <td>1.000000</td>\n",
              "      <td>1.000000</td>\n",
              "      <td>1.000000</td>\n",
              "      <td>1.000000</td>\n",
              "      <td>1.000000</td>\n",
              "    </tr>\n",
              "  </tbody>\n",
              "</table>\n",
              "<p>8 rows × 170 columns</p>\n",
              "</div>\n",
              "      <button class=\"colab-df-convert\" onclick=\"convertToInteractive('df-f3dc6ad5-adbf-4c49-9093-d5b7fa03a082')\"\n",
              "              title=\"Convert this dataframe to an interactive table.\"\n",
              "              style=\"display:none;\">\n",
              "        \n",
              "  <svg xmlns=\"http://www.w3.org/2000/svg\" height=\"24px\"viewBox=\"0 0 24 24\"\n",
              "       width=\"24px\">\n",
              "    <path d=\"M0 0h24v24H0V0z\" fill=\"none\"/>\n",
              "    <path d=\"M18.56 5.44l.94 2.06.94-2.06 2.06-.94-2.06-.94-.94-2.06-.94 2.06-2.06.94zm-11 1L8.5 8.5l.94-2.06 2.06-.94-2.06-.94L8.5 2.5l-.94 2.06-2.06.94zm10 10l.94 2.06.94-2.06 2.06-.94-2.06-.94-.94-2.06-.94 2.06-2.06.94z\"/><path d=\"M17.41 7.96l-1.37-1.37c-.4-.4-.92-.59-1.43-.59-.52 0-1.04.2-1.43.59L10.3 9.45l-7.72 7.72c-.78.78-.78 2.05 0 2.83L4 21.41c.39.39.9.59 1.41.59.51 0 1.02-.2 1.41-.59l7.78-7.78 2.81-2.81c.8-.78.8-2.07 0-2.86zM5.41 20L4 18.59l7.72-7.72 1.47 1.35L5.41 20z\"/>\n",
              "  </svg>\n",
              "      </button>\n",
              "      \n",
              "  <style>\n",
              "    .colab-df-container {\n",
              "      display:flex;\n",
              "      flex-wrap:wrap;\n",
              "      gap: 12px;\n",
              "    }\n",
              "\n",
              "    .colab-df-convert {\n",
              "      background-color: #E8F0FE;\n",
              "      border: none;\n",
              "      border-radius: 50%;\n",
              "      cursor: pointer;\n",
              "      display: none;\n",
              "      fill: #1967D2;\n",
              "      height: 32px;\n",
              "      padding: 0 0 0 0;\n",
              "      width: 32px;\n",
              "    }\n",
              "\n",
              "    .colab-df-convert:hover {\n",
              "      background-color: #E2EBFA;\n",
              "      box-shadow: 0px 1px 2px rgba(60, 64, 67, 0.3), 0px 1px 3px 1px rgba(60, 64, 67, 0.15);\n",
              "      fill: #174EA6;\n",
              "    }\n",
              "\n",
              "    [theme=dark] .colab-df-convert {\n",
              "      background-color: #3B4455;\n",
              "      fill: #D2E3FC;\n",
              "    }\n",
              "\n",
              "    [theme=dark] .colab-df-convert:hover {\n",
              "      background-color: #434B5C;\n",
              "      box-shadow: 0px 1px 3px 1px rgba(0, 0, 0, 0.15);\n",
              "      filter: drop-shadow(0px 1px 2px rgba(0, 0, 0, 0.3));\n",
              "      fill: #FFFFFF;\n",
              "    }\n",
              "  </style>\n",
              "\n",
              "      <script>\n",
              "        const buttonEl =\n",
              "          document.querySelector('#df-f3dc6ad5-adbf-4c49-9093-d5b7fa03a082 button.colab-df-convert');\n",
              "        buttonEl.style.display =\n",
              "          google.colab.kernel.accessAllowed ? 'block' : 'none';\n",
              "\n",
              "        async function convertToInteractive(key) {\n",
              "          const element = document.querySelector('#df-f3dc6ad5-adbf-4c49-9093-d5b7fa03a082');\n",
              "          const dataTable =\n",
              "            await google.colab.kernel.invokeFunction('convertToInteractive',\n",
              "                                                     [key], {});\n",
              "          if (!dataTable) return;\n",
              "\n",
              "          const docLinkHtml = 'Like what you see? Visit the ' +\n",
              "            '<a target=\"_blank\" href=https://colab.research.google.com/notebooks/data_table.ipynb>data table notebook</a>'\n",
              "            + ' to learn more about interactive tables.';\n",
              "          element.innerHTML = '';\n",
              "          dataTable['output_type'] = 'display_data';\n",
              "          await google.colab.output.renderOutput(dataTable, element);\n",
              "          const docLink = document.createElement('div');\n",
              "          docLink.innerHTML = docLinkHtml;\n",
              "          element.appendChild(docLink);\n",
              "        }\n",
              "      </script>\n",
              "    </div>\n",
              "  </div>\n",
              "  "
            ]
          },
          "metadata": {},
          "execution_count": 164
        }
      ],
      "source": [
        "train_features.describe()"
      ]
    },
    {
      "cell_type": "markdown",
      "metadata": {
        "id": "5_I2Q6V986tO"
      },
      "source": [
        "### Processing train labels"
      ]
    },
    {
      "cell_type": "markdown",
      "metadata": {
        "id": "rh4h45a686tO"
      },
      "source": [
        "Round values and replace -1 with 0 making all labels positives."
      ]
    },
    {
      "cell_type": "code",
      "execution_count": 165,
      "metadata": {
        "collapsed": true,
        "id": "RIt4epC686tP"
      },
      "outputs": [],
      "source": [
        "\n",
        "train_labels = train_labels.apply(round)\n",
        "train_labels = train_labels.replace({-1:0})"
      ]
    },
    {
      "cell_type": "markdown",
      "metadata": {
        "id": "L9G4Z6L186tP"
      },
      "source": [
        "### Show labels porportion"
      ]
    },
    {
      "cell_type": "code",
      "execution_count": 166,
      "metadata": {
        "colab": {
          "base_uri": "https://localhost:8080/",
          "height": 425
        },
        "collapsed": true,
        "id": "dp-k_MBq86tP",
        "outputId": "578401cf-67c3-4066-cb5f-c6df1733460b"
      },
      "outputs": [
        {
          "output_type": "display_data",
          "data": {
            "text/plain": [
              "<Figure size 720x504 with 1 Axes>"
            ],
            "image/png": "[encoded data removed]"
          },
          "metadata": {
            "needs_background": "light"
          }
        }
      ],
      "source": [
        "bar(train_labels.value_counts())\n",
        "plt.show()"
      ]
    },
    {
      "cell_type": "markdown",
      "metadata": {
        "id": "xy7pOD1w86tP"
      },
      "source": [
        "## Processing and analysis over data"
      ]
    },
    {
      "cell_type": "markdown",
      "metadata": {
        "id": "kQF98ujR86tP"
      },
      "source": [
        "### Correlation analysis"
      ]
    },
    {
      "cell_type": "markdown",
      "metadata": {
        "id": "iRdhGd8l86tP"
      },
      "source": [
        "Used method: Pearson distance. Ref: https://pt.wikipedia.org/wiki/Correla%C3%A7%C3%A3o#Coeficiente_de_correla%C3%A7%C3%A3o_de_Pearson"
      ]
    },
    {
      "cell_type": "code",
      "execution_count": 167,
      "metadata": {
        "collapsed": true,
        "id": "3RwlR2YH86tP",
        "scrolled": true
      },
      "outputs": [],
      "source": [
        "if enable_correlation and enable_dendrogram:\n",
        "    corr_matrix = train_features.corr()\n",
        "    dendrogram(corr_matrix)\n",
        "    plt.tight_layout()"
      ]
    },
    {
      "cell_type": "markdown",
      "metadata": {
        "id": "k6Dk9t9986tQ"
      },
      "source": [
        "Correlation matrix heatmap."
      ]
    },
    {
      "cell_type": "code",
      "execution_count": 168,
      "metadata": {
        "collapsed": true,
        "id": "XV6SoQjG86tQ"
      },
      "outputs": [],
      "source": [
        "if enable_correlation and enable_heatmap:\n",
        "    fig, ax = plt.subplots(figsize=(10,10))\n",
        "    ax = sns.heatmap(corr_matrix, square=True, cmap='Purples', ax=ax)\n",
        "    plt.tight_layout()\n",
        "    plt.show()"
      ]
    },
    {
      "cell_type": "markdown",
      "metadata": {
        "id": "MrYTasLo86tQ"
      },
      "source": [
        "[](http://)The data has a lot of features, because of that, is very difficulty to visualize hierarchical graphs,\n",
        "<br> One option is to use a pipeline with selection attribute method to reduce number of features and than dropping the high correlated features."
      ]
    },
    {
      "cell_type": "markdown",
      "metadata": {
        "id": "U79jLXOv86tQ"
      },
      "source": [
        "### Feature selection by univariate statistics test"
      ]
    },
    {
      "cell_type": "markdown",
      "metadata": {
        "id": "DsyHta0r86tQ"
      },
      "source": [
        "Ref.: \n",
        "<br> http://scikit-learn.org/stable/modules/generated/sklearn.feature_selection.SelectKBest.html\n",
        "<br> https://en.wikipedia.org/wiki/Chi-squared_distribution"
      ]
    },
    {
      "cell_type": "code",
      "execution_count": 169,
      "metadata": {
        "collapsed": true,
        "id": "_PeO9E9Z86tQ"
      },
      "outputs": [],
      "source": [
        "# to enable run correlation selection without univariate selection.\n",
        "best_train_features = train_features \n",
        "new_corr_matrix = best_train_features.corr()"
      ]
    },
    {
      "cell_type": "code",
      "execution_count": 169,
      "metadata": {
        "id": "uDPG9xoV_eFw"
      },
      "outputs": [],
      "source": [
        "\n",
        "\n"
      ]
    },
    {
      "cell_type": "code",
      "execution_count": 170,
      "metadata": {
        "collapsed": true,
        "id": "PAYFZELT86tQ"
      },
      "outputs": [],
      "source": [
        "if enable_univariate_selec:\n",
        "    if method_selec=='selectkbest':\n",
        "        selectKBest = SelectKBest(chi2, k  = 84)\n",
        "        selectKBest.fit(train_features, train_labels)\n",
        "        best_train_features = selectKBest.transform(train_features)\n",
        "\n",
        "        idxs_selected = selectKBest.get_support(indices=True)\n",
        "        best_train_features = train_features.iloc[:,idxs_selected]\n"
      ]
    },
    {
      "cell_type": "markdown",
      "metadata": {
        "id": "0IjuRw4586tQ"
      },
      "source": [
        "Selected columns."
      ]
    },
    {
      "cell_type": "code",
      "execution_count": 171,
      "metadata": {
        "collapsed": true,
        "id": "bozbKuZp86tR"
      },
      "outputs": [],
      "source": [
        "if enable_univariate_selec:\n",
        "    if method_selec=='selectkbest':\n",
        "        print(best_train_features.columns) # selected columns"
      ]
    },
    {
      "cell_type": "markdown",
      "metadata": {
        "id": "0QrYg6p886tR"
      },
      "source": [
        "Descritive analysis after feature selection"
      ]
    },
    {
      "cell_type": "code",
      "execution_count": 172,
      "metadata": {
        "collapsed": true,
        "id": "62aag7qa86tR"
      },
      "outputs": [],
      "source": [
        "if enable_univariate_selec:\n",
        "    if method_selec=='selectkbest':\n",
        "        best_train_features.describe()"
      ]
    },
    {
      "cell_type": "code",
      "source": [],
      "metadata": {
        "id": "rvahUbS7bXD7"
      },
      "execution_count": 172,
      "outputs": []
    },
    {
      "cell_type": "code",
      "source": [
        "best_train_features.describe()"
      ],
      "metadata": {
        "colab": {
          "base_uri": "https://localhost:8080/",
          "height": 394
        },
        "id": "0a6-tkI2bV4Z",
        "outputId": "33ca94b2-b5a1-4483-de15-ffde981626d9"
      },
      "execution_count": 173,
      "outputs": [
        {
          "output_type": "execute_result",
          "data": {
            "text/plain": [
              "             aa_000        ab_000        ac_000        ad_000        ae_000  \\\n",
              "count  60000.000000  60000.000000  60000.000000  60000.000000  60000.000000   \n",
              "mean       0.201396      0.170101      0.184964      0.000076      0.012888   \n",
              "std        0.262922      0.278488      0.386650      0.004138      0.103060   \n",
              "min        0.000000      0.000000      0.000000      0.000000      0.000000   \n",
              "25%        0.005587      0.000000      0.000000      0.000000      0.000000   \n",
              "50%        0.150838      0.000000      0.000000      0.000000      0.000000   \n",
              "75%        0.240223      0.225610      0.000000      0.000000      0.000000   \n",
              "max        1.000000      1.000000      1.000000      1.000000      1.000000   \n",
              "\n",
              "             af_000        ag_000        ag_001        ag_002        ag_003  \\\n",
              "count  60000.000000  60000.000000  60000.000000  60000.000000  60000.000000   \n",
              "mean       0.013425      0.001228      0.004894      0.013362      0.038237   \n",
              "std        0.106749      0.032016      0.063707      0.101124      0.168403   \n",
              "min        0.000000      0.000000      0.000000      0.000000      0.000000   \n",
              "25%        0.000000      0.000000      0.000000      0.000000      0.000000   \n",
              "50%        0.000000      0.000000      0.000000      0.000000      0.000000   \n",
              "75%        0.000000      0.000000      0.000000      0.000000      0.000000   \n",
              "max        1.000000      1.000000      1.000000      1.000000      1.000000   \n",
              "\n",
              "       ...        ee_002        ee_003        ee_004        ee_005  \\\n",
              "count  ...  60000.000000  60000.000000  60000.000000  60000.000000   \n",
              "mean   ...      0.202185      0.206603      0.209336      0.195227   \n",
              "std    ...      0.259307      0.263321      0.264107      0.250137   \n",
              "min    ...      0.000000      0.000000      0.000000      0.000000   \n",
              "25%    ...      0.000000      0.000000      0.005682      0.005814   \n",
              "50%    ...      0.147727      0.147727      0.136364      0.127907   \n",
              "75%    ...      0.272727      0.289773      0.289773      0.267442   \n",
              "max    ...      1.000000      1.000000      1.000000      1.000000   \n",
              "\n",
              "             ee_006        ee_007        ee_008        ee_009        ef_000  \\\n",
              "count  60000.000000  60000.000000  60000.000000  60000.000000  60000.000000   \n",
              "mean       0.160288      0.089559      0.169752      0.089689      0.003350   \n",
              "std        0.245510      0.200095      0.280592      0.224222      0.051108   \n",
              "min        0.000000      0.000000      0.000000      0.000000      0.000000   \n",
              "25%        0.000000      0.000000      0.000000      0.000000      0.000000   \n",
              "50%        0.065868      0.019737      0.006024      0.000000      0.000000   \n",
              "75%        0.197605      0.078947      0.234940      0.033557      0.000000   \n",
              "max        1.000000      1.000000      1.000000      1.000000      1.000000   \n",
              "\n",
              "             eg_000  \n",
              "count  60000.000000  \n",
              "mean       0.004943  \n",
              "std        0.060801  \n",
              "min        0.000000  \n",
              "25%        0.000000  \n",
              "50%        0.000000  \n",
              "75%        0.000000  \n",
              "max        1.000000  \n",
              "\n",
              "[8 rows x 170 columns]"
            ],
            "text/html": [
              "\n",
              "  <div id=\"df-9d5cdca6-1abe-430d-8010-0e9c3f932473\">\n",
              "    <div class=\"colab-df-container\">\n",
              "      <div>\n",
              "<style scoped>\n",
              "    .dataframe tbody tr th:only-of-type {\n",
              "        vertical-align: middle;\n",
              "    }\n",
              "\n",
              "    .dataframe tbody tr th {\n",
              "        vertical-align: top;\n",
              "    }\n",
              "\n",
              "    .dataframe thead th {\n",
              "        text-align: right;\n",
              "    }\n",
              "</style>\n",
              "<table border=\"1\" class=\"dataframe\">\n",
              "  <thead>\n",
              "    <tr style=\"text-align: right;\">\n",
              "      <th></th>\n",
              "      <th>aa_000</th>\n",
              "      <th>ab_000</th>\n",
              "      <th>ac_000</th>\n",
              "      <th>ad_000</th>\n",
              "      <th>ae_000</th>\n",
              "      <th>af_000</th>\n",
              "      <th>ag_000</th>\n",
              "      <th>ag_001</th>\n",
              "      <th>ag_002</th>\n",
              "      <th>ag_003</th>\n",
              "      <th>...</th>\n",
              "      <th>ee_002</th>\n",
              "      <th>ee_003</th>\n",
              "      <th>ee_004</th>\n",
              "      <th>ee_005</th>\n",
              "      <th>ee_006</th>\n",
              "      <th>ee_007</th>\n",
              "      <th>ee_008</th>\n",
              "      <th>ee_009</th>\n",
              "      <th>ef_000</th>\n",
              "      <th>eg_000</th>\n",
              "    </tr>\n",
              "  </thead>\n",
              "  <tbody>\n",
              "    <tr>\n",
              "      <th>count</th>\n",
              "      <td>60000.000000</td>\n",
              "      <td>60000.000000</td>\n",
              "      <td>60000.000000</td>\n",
              "      <td>60000.000000</td>\n",
              "      <td>60000.000000</td>\n",
              "      <td>60000.000000</td>\n",
              "      <td>60000.000000</td>\n",
              "      <td>60000.000000</td>\n",
              "      <td>60000.000000</td>\n",
              "      <td>60000.000000</td>\n",
              "      <td>...</td>\n",
              "      <td>60000.000000</td>\n",
              "      <td>60000.000000</td>\n",
              "      <td>60000.000000</td>\n",
              "      <td>60000.000000</td>\n",
              "      <td>60000.000000</td>\n",
              "      <td>60000.000000</td>\n",
              "      <td>60000.000000</td>\n",
              "      <td>60000.000000</td>\n",
              "      <td>60000.000000</td>\n",
              "      <td>60000.000000</td>\n",
              "    </tr>\n",
              "    <tr>\n",
              "      <th>mean</th>\n",
              "      <td>0.201396</td>\n",
              "      <td>0.170101</td>\n",
              "      <td>0.184964</td>\n",
              "      <td>0.000076</td>\n",
              "      <td>0.012888</td>\n",
              "      <td>0.013425</td>\n",
              "      <td>0.001228</td>\n",
              "      <td>0.004894</td>\n",
              "      <td>0.013362</td>\n",
              "      <td>0.038237</td>\n",
              "      <td>...</td>\n",
              "      <td>0.202185</td>\n",
              "      <td>0.206603</td>\n",
              "      <td>0.209336</td>\n",
              "      <td>0.195227</td>\n",
              "      <td>0.160288</td>\n",
              "      <td>0.089559</td>\n",
              "      <td>0.169752</td>\n",
              "      <td>0.089689</td>\n",
              "      <td>0.003350</td>\n",
              "      <td>0.004943</td>\n",
              "    </tr>\n",
              "    <tr>\n",
              "      <th>std</th>\n",
              "      <td>0.262922</td>\n",
              "      <td>0.278488</td>\n",
              "      <td>0.386650</td>\n",
              "      <td>0.004138</td>\n",
              "      <td>0.103060</td>\n",
              "      <td>0.106749</td>\n",
              "      <td>0.032016</td>\n",
              "      <td>0.063707</td>\n",
              "      <td>0.101124</td>\n",
              "      <td>0.168403</td>\n",
              "      <td>...</td>\n",
              "      <td>0.259307</td>\n",
              "      <td>0.263321</td>\n",
              "      <td>0.264107</td>\n",
              "      <td>0.250137</td>\n",
              "      <td>0.245510</td>\n",
              "      <td>0.200095</td>\n",
              "      <td>0.280592</td>\n",
              "      <td>0.224222</td>\n",
              "      <td>0.051108</td>\n",
              "      <td>0.060801</td>\n",
              "    </tr>\n",
              "    <tr>\n",
              "      <th>min</th>\n",
              "      <td>0.000000</td>\n",
              "      <td>0.000000</td>\n",
              "      <td>0.000000</td>\n",
              "      <td>0.000000</td>\n",
              "      <td>0.000000</td>\n",
              "      <td>0.000000</td>\n",
              "      <td>0.000000</td>\n",
              "      <td>0.000000</td>\n",
              "      <td>0.000000</td>\n",
              "      <td>0.000000</td>\n",
              "      <td>...</td>\n",
              "      <td>0.000000</td>\n",
              "      <td>0.000000</td>\n",
              "      <td>0.000000</td>\n",
              "      <td>0.000000</td>\n",
              "      <td>0.000000</td>\n",
              "      <td>0.000000</td>\n",
              "      <td>0.000000</td>\n",
              "      <td>0.000000</td>\n",
              "      <td>0.000000</td>\n",
              "      <td>0.000000</td>\n",
              "    </tr>\n",
              "    <tr>\n",
              "      <th>25%</th>\n",
              "      <td>0.005587</td>\n",
              "      <td>0.000000</td>\n",
              "      <td>0.000000</td>\n",
              "      <td>0.000000</td>\n",
              "      <td>0.000000</td>\n",
              "      <td>0.000000</td>\n",
              "      <td>0.000000</td>\n",
              "      <td>0.000000</td>\n",
              "      <td>0.000000</td>\n",
              "      <td>0.000000</td>\n",
              "      <td>...</td>\n",
              "      <td>0.000000</td>\n",
              "      <td>0.000000</td>\n",
              "      <td>0.005682</td>\n",
              "      <td>0.005814</td>\n",
              "      <td>0.000000</td>\n",
              "      <td>0.000000</td>\n",
              "      <td>0.000000</td>\n",
              "      <td>0.000000</td>\n",
              "      <td>0.000000</td>\n",
              "      <td>0.000000</td>\n",
              "    </tr>\n",
              "    <tr>\n",
              "      <th>50%</th>\n",
              "      <td>0.150838</td>\n",
              "      <td>0.000000</td>\n",
              "      <td>0.000000</td>\n",
              "      <td>0.000000</td>\n",
              "      <td>0.000000</td>\n",
              "      <td>0.000000</td>\n",
              "      <td>0.000000</td>\n",
              "      <td>0.000000</td>\n",
              "      <td>0.000000</td>\n",
              "      <td>0.000000</td>\n",
              "      <td>...</td>\n",
              "      <td>0.147727</td>\n",
              "      <td>0.147727</td>\n",
              "      <td>0.136364</td>\n",
              "      <td>0.127907</td>\n",
              "      <td>0.065868</td>\n",
              "      <td>0.019737</td>\n",
              "      <td>0.006024</td>\n",
              "      <td>0.000000</td>\n",
              "      <td>0.000000</td>\n",
              "      <td>0.000000</td>\n",
              "    </tr>\n",
              "    <tr>\n",
              "      <th>75%</th>\n",
              "      <td>0.240223</td>\n",
              "      <td>0.225610</td>\n",
              "      <td>0.000000</td>\n",
              "      <td>0.000000</td>\n",
              "      <td>0.000000</td>\n",
              "      <td>0.000000</td>\n",
              "      <td>0.000000</td>\n",
              "      <td>0.000000</td>\n",
              "      <td>0.000000</td>\n",
              "      <td>0.000000</td>\n",
              "      <td>...</td>\n",
              "      <td>0.272727</td>\n",
              "      <td>0.289773</td>\n",
              "      <td>0.289773</td>\n",
              "      <td>0.267442</td>\n",
              "      <td>0.197605</td>\n",
              "      <td>0.078947</td>\n",
              "      <td>0.234940</td>\n",
              "      <td>0.033557</td>\n",
              "      <td>0.000000</td>\n",
              "      <td>0.000000</td>\n",
              "    </tr>\n",
              "    <tr>\n",
              "      <th>max</th>\n",
              "      <td>1.000000</td>\n",
              "      <td>1.000000</td>\n",
              "      <td>1.000000</td>\n",
              "      <td>1.000000</td>\n",
              "      <td>1.000000</td>\n",
              "      <td>1.000000</td>\n",
              "      <td>1.000000</td>\n",
              "      <td>1.000000</td>\n",
              "      <td>1.000000</td>\n",
              "      <td>1.000000</td>\n",
              "      <td>...</td>\n",
              "      <td>1.000000</td>\n",
              "      <td>1.000000</td>\n",
              "      <td>1.000000</td>\n",
              "      <td>1.000000</td>\n",
              "      <td>1.000000</td>\n",
              "      <td>1.000000</td>\n",
              "      <td>1.000000</td>\n",
              "      <td>1.000000</td>\n",
              "      <td>1.000000</td>\n",
              "      <td>1.000000</td>\n",
              "    </tr>\n",
              "  </tbody>\n",
              "</table>\n",
              "<p>8 rows × 170 columns</p>\n",
              "</div>\n",
              "      <button class=\"colab-df-convert\" onclick=\"convertToInteractive('df-9d5cdca6-1abe-430d-8010-0e9c3f932473')\"\n",
              "              title=\"Convert this dataframe to an interactive table.\"\n",
              "              style=\"display:none;\">\n",
              "        \n",
              "  <svg xmlns=\"http://www.w3.org/2000/svg\" height=\"24px\"viewBox=\"0 0 24 24\"\n",
              "       width=\"24px\">\n",
              "    <path d=\"M0 0h24v24H0V0z\" fill=\"none\"/>\n",
              "    <path d=\"M18.56 5.44l.94 2.06.94-2.06 2.06-.94-2.06-.94-.94-2.06-.94 2.06-2.06.94zm-11 1L8.5 8.5l.94-2.06 2.06-.94-2.06-.94L8.5 2.5l-.94 2.06-2.06.94zm10 10l.94 2.06.94-2.06 2.06-.94-2.06-.94-.94-2.06-.94 2.06-2.06.94z\"/><path d=\"M17.41 7.96l-1.37-1.37c-.4-.4-.92-.59-1.43-.59-.52 0-1.04.2-1.43.59L10.3 9.45l-7.72 7.72c-.78.78-.78 2.05 0 2.83L4 21.41c.39.39.9.59 1.41.59.51 0 1.02-.2 1.41-.59l7.78-7.78 2.81-2.81c.8-.78.8-2.07 0-2.86zM5.41 20L4 18.59l7.72-7.72 1.47 1.35L5.41 20z\"/>\n",
              "  </svg>\n",
              "      </button>\n",
              "      \n",
              "  <style>\n",
              "    .colab-df-container {\n",
              "      display:flex;\n",
              "      flex-wrap:wrap;\n",
              "      gap: 12px;\n",
              "    }\n",
              "\n",
              "    .colab-df-convert {\n",
              "      background-color: #E8F0FE;\n",
              "      border: none;\n",
              "      border-radius: 50%;\n",
              "      cursor: pointer;\n",
              "      display: none;\n",
              "      fill: #1967D2;\n",
              "      height: 32px;\n",
              "      padding: 0 0 0 0;\n",
              "      width: 32px;\n",
              "    }\n",
              "\n",
              "    .colab-df-convert:hover {\n",
              "      background-color: #E2EBFA;\n",
              "      box-shadow: 0px 1px 2px rgba(60, 64, 67, 0.3), 0px 1px 3px 1px rgba(60, 64, 67, 0.15);\n",
              "      fill: #174EA6;\n",
              "    }\n",
              "\n",
              "    [theme=dark] .colab-df-convert {\n",
              "      background-color: #3B4455;\n",
              "      fill: #D2E3FC;\n",
              "    }\n",
              "\n",
              "    [theme=dark] .colab-df-convert:hover {\n",
              "      background-color: #434B5C;\n",
              "      box-shadow: 0px 1px 3px 1px rgba(0, 0, 0, 0.15);\n",
              "      filter: drop-shadow(0px 1px 2px rgba(0, 0, 0, 0.3));\n",
              "      fill: #FFFFFF;\n",
              "    }\n",
              "  </style>\n",
              "\n",
              "      <script>\n",
              "        const buttonEl =\n",
              "          document.querySelector('#df-9d5cdca6-1abe-430d-8010-0e9c3f932473 button.colab-df-convert');\n",
              "        buttonEl.style.display =\n",
              "          google.colab.kernel.accessAllowed ? 'block' : 'none';\n",
              "\n",
              "        async function convertToInteractive(key) {\n",
              "          const element = document.querySelector('#df-9d5cdca6-1abe-430d-8010-0e9c3f932473');\n",
              "          const dataTable =\n",
              "            await google.colab.kernel.invokeFunction('convertToInteractive',\n",
              "                                                     [key], {});\n",
              "          if (!dataTable) return;\n",
              "\n",
              "          const docLinkHtml = 'Like what you see? Visit the ' +\n",
              "            '<a target=\"_blank\" href=https://colab.research.google.com/notebooks/data_table.ipynb>data table notebook</a>'\n",
              "            + ' to learn more about interactive tables.';\n",
              "          element.innerHTML = '';\n",
              "          dataTable['output_type'] = 'display_data';\n",
              "          await google.colab.output.renderOutput(dataTable, element);\n",
              "          const docLink = document.createElement('div');\n",
              "          docLink.innerHTML = docLinkHtml;\n",
              "          element.appendChild(docLink);\n",
              "        }\n",
              "      </script>\n",
              "    </div>\n",
              "  </div>\n",
              "  "
            ]
          },
          "metadata": {},
          "execution_count": 173
        }
      ]
    },
    {
      "cell_type": "markdown",
      "metadata": {
        "id": "z-D16Ast86tR"
      },
      "source": [
        "Correlation after feature selection"
      ]
    },
    {
      "cell_type": "code",
      "execution_count": 174,
      "metadata": {
        "collapsed": true,
        "id": "AKH5CM4w86tR"
      },
      "outputs": [],
      "source": [
        "if enable_univariate_selec:\n",
        "    if method_selec=='selectkbest':\n",
        "        new_corr_matrix = best_train_features.corr()\n",
        "        dendrogram(new_corr_matrix)\n",
        "        plt.tight_layout()"
      ]
    },
    {
      "cell_type": "markdown",
      "metadata": {
        "id": "uDPhLFNS86tR"
      },
      "source": [
        "![](http://)__Obs: __ You can make a pipeline with feature selction method and feature selection by correlation, just enable both in *Setup hyperparameters*"
      ]
    },
    {
      "cell_type": "markdown",
      "metadata": {
        "id": "oiDqA_K786tR"
      },
      "source": [
        "### Only mantain the best feature between the high correlated features"
      ]
    },
    {
      "cell_type": "code",
      "execution_count": 175,
      "metadata": {
        "collapsed": true,
        "id": "IKa9t7Ar86tS"
      },
      "outputs": [],
      "source": [
        "if enable_correlation_selec:\n",
        "    new_new_corr_matrix = corr_drop(new_corr_matrix, factor)\n",
        "    print(f'Number of features selected is {len(new_new_corr_matrix.columns)}.')"
      ]
    },
    {
      "cell_type": "code",
      "execution_count": 176,
      "metadata": {
        "collapsed": true,
        "id": "YnFoWPvW86tS"
      },
      "outputs": [],
      "source": [
        "if enable_correlation_selec:\n",
        "    dendrogram(new_new_corr_matrix)\n",
        "    plt.tight_layout()"
      ]
    },
    {
      "cell_type": "code",
      "execution_count": 177,
      "metadata": {
        "collapsed": true,
        "id": "vtelYiV_86tS"
      },
      "outputs": [],
      "source": [
        "if enable_correlation_selec:\n",
        "    fig, ax = plt.subplots(figsize=(10,10))\n",
        "    ax = sns.heatmap(new_new_corr_matrix, square=True, cmap='Purples', ax=ax)\n",
        "    plt.tight_layout()\n",
        "    plt.show()"
      ]
    },
    {
      "cell_type": "code",
      "execution_count": 178,
      "metadata": {
        "collapsed": true,
        "id": "PCqGVwjE86tS"
      },
      "outputs": [],
      "source": [
        "if enable_correlation_selec:\n",
        "    best_train_features = best_train_features.loc[:,new_new_corr_matrix.columns]"
      ]
    },
    {
      "cell_type": "markdown",
      "metadata": {
        "id": "QbRHQNgj86tS"
      },
      "source": [
        "### Feature extraction with PCA"
      ]
    },
    {
      "cell_type": "code",
      "execution_count": 179,
      "metadata": {
        "collapsed": true,
        "id": "jIiYnqID86tS"
      },
      "outputs": [],
      "source": [
        "if method_selec=='pca':\n",
        "    pca = PCA(pca_variance)\n",
        "    pca.fit(train_features)\n",
        "    best_train_features = pca.transform(train_features)\n",
        "    best_train_features = pd.DataFrame(best_train_features)"
      ]
    },
    {
      "cell_type": "code",
      "source": [
        "eigen_vals = sorted(np.linalg.eigvals(train_features.corr()), reverse=True)\n",
        "\n",
        "# plot\n",
        "fig, ax = plt.subplots(2, 1, figsize=(20,10))\n",
        "plt.subplots_adjust(hspace=0.4)\n",
        "ax[0].plot(eigen_vals, 's-')\n",
        "ax[0].set_xlabel(\"factor\")\n",
        "ax[0].set_ylabel(\"eigenvalue\")\n",
        "\n",
        "ax[1].plot(eigen_vals, 's-')\n",
        "ax[1].set_xlabel(\"factor\")\n",
        "ax[1].set_ylabel(\"eigenvalue\")\n",
        "ax[1].set_ylim([0,10])\n",
        "ax[1].set_title(\"Scale up\")"
      ],
      "metadata": {
        "colab": {
          "base_uri": "https://localhost:8080/",
          "height": 623
        },
        "id": "pbdU22WFvxft",
        "outputId": "c7078b0b-7334-44df-b595-ef6464f4d468"
      },
      "execution_count": 180,
      "outputs": [
        {
          "output_type": "execute_result",
          "data": {
            "text/plain": [
              "Text(0.5, 1.0, 'Scale up')"
            ]
          },
          "metadata": {},
          "execution_count": 180
        },
        {
          "output_type": "display_data",
          "data": {
            "text/plain": [
              "<Figure size 1440x720 with 2 Axes>"
            ],
            "image/png": "[encoded data removed]"
          },
          "metadata": {
            "needs_background": "light"
          }
        }
      ]
    },
    {
      "cell_type": "code",
      "source": [
        "if method_selec=='pca':\n",
        "  {pca.n_components_}"
      ],
      "metadata": {
        "id": "1qvTUISlwkd3"
      },
      "execution_count": 181,
      "outputs": []
    },
    {
      "cell_type": "code",
      "execution_count": 182,
      "metadata": {
        "collapsed": true,
        "id": "PRblvbqM86tS",
        "colab": {
          "base_uri": "https://localhost:8080/"
        },
        "outputId": "6a65ae56-b980-4400-d960-522c6fc1f7cf"
      },
      "outputs": [
        {
          "output_type": "stream",
          "name": "stdout",
          "text": [
            "Number of components {pca.n_components_}\n"
          ]
        }
      ],
      "source": [
        "if method_selec=='pca':\n",
        "    print('Number of components {pca.n_components_}')"
      ]
    },
    {
      "cell_type": "markdown",
      "metadata": {
        "id": "PIQ97QjC86tS"
      },
      "source": [
        "## Modeling"
      ]
    },
    {
      "cell_type": "markdown",
      "metadata": {
        "id": "1QTHK9v286tT"
      },
      "source": [
        "### Balancing"
      ]
    },
    {
      "cell_type": "code",
      "execution_count": 183,
      "metadata": {
        "collapsed": true,
        "id": "2e_a0X6G86tT"
      },
      "outputs": [],
      "source": [
        "# to enable run without balancing\n",
        "best_train_features_balanced = best_train_features\n",
        "train_labels_balanced = train_labels"
      ]
    },
    {
      "cell_type": "code",
      "execution_count": 184,
      "metadata": {
        "id": "Tg1yQU7VboNo"
      },
      "outputs": [],
      "source": [
        "if enable_balancing:\n",
        "  from imblearn.under_sampling import RandomUnderSampler\n",
        "  rus = RandomUnderSampler(random_state=0)\n",
        "\n",
        "  best_train_features_balanced, train_labels_balanced = rus.fit_resample(best_train_features, train_labels)"
      ]
    },
    {
      "cell_type": "code",
      "execution_count": 185,
      "metadata": {
        "colab": {
          "base_uri": "https://localhost:8080/"
        },
        "id": "Npt2TJy2cYwV",
        "outputId": "45e2fa92-8cc0-42e4-d81c-9bc8f2bfee43"
      },
      "outputs": [
        {
          "output_type": "execute_result",
          "data": {
            "text/plain": [
              "0    1000\n",
              "1    1000\n",
              "Name: class, dtype: int64"
            ]
          },
          "metadata": {},
          "execution_count": 185
        }
      ],
      "source": [
        "train_labels_balanced.value_counts()"
      ]
    },
    {
      "cell_type": "code",
      "source": [],
      "metadata": {
        "id": "KiHlc_dmQCT7"
      },
      "execution_count": 185,
      "outputs": []
    },
    {
      "cell_type": "code",
      "execution_count": 186,
      "metadata": {
        "collapsed": true,
        "id": "JP-ZZKMU86tT"
      },
      "outputs": [],
      "source": [
        "# if enable_balancing:\n",
        "#     idxs_pos = train_labels[train_labels==1].index\n",
        "#     idxs_neg = train_labels[train_labels==0].sample(n=number_samples, replace=False, random_state=0).index\n",
        "#     idxs_balanced = np.concatenate((idxs_pos,idxs_neg))\n",
        "#     best_train_features_balanced = best_train_features.loc[idxs_balanced]\n",
        "#     train_labels_balanced = train_labels.loc[idxs_balanced]\n",
        "#     print(f'Proportion balanced: {int(number_samples/1000)}/1')"
      ]
    },
    {
      "cell_type": "code",
      "source": [
        "if ml_method=='randomforestreg':\n",
        "    rfc = RandomForestRegressor(n_estimators=100, oob_score = True, random_state=0, n_jobs=3)\n",
        "    rfc.fit(best_train_features_balanced, train_labels_balanced)\n",
        "    print(rfc)"
      ],
      "metadata": {
        "id": "M3dKEuVE2xuI"
      },
      "execution_count": 187,
      "outputs": []
    },
    {
      "cell_type": "code",
      "source": [
        "if ml_method=='mlp':\n",
        "    # Seed value\n",
        "  # Apparently you may use different seed values at each stage\n",
        "  seed_value= 0\n",
        "\n",
        "  # 1. Set the `PYTHONHASHSEED` environment variable at a fixed value\n",
        "  import os\n",
        "  os.environ['PYTHONHASHSEED']=str(seed_value)\n",
        "\n",
        "  # 2. Set the `python` built-in pseudo-random generator at a fixed value\n",
        "  import random\n",
        "  random.seed(seed_value)\n",
        "\n",
        "  # 3. Set the `numpy` pseudo-random generator at a fixed value\n",
        "  import numpy as np\n",
        "  np.random.seed(seed_value)\n",
        "\n",
        "  # 4. Set the `tensorflow` pseudo-random generator at a fixed value\n",
        "  import tensorflow as tf\n",
        "  #tf.random.set_seed(seed_value)\n",
        "  # for later versions: \n",
        "  tf.compat.v1.set_random_seed(seed_value)\n",
        "\n",
        "  # 5. Configure a new global `tensorflow` session\n",
        "  from keras import backend as K\n",
        "  # session_conf = tf.ConfigProto(intra_op_parallelism_threads=1, inter_op_parallelism_threads=1)\n",
        "  # sess = tf.Session(graph=tf.get_default_graph(), config=session_conf)\n",
        "  # K.set_session(sess)\n",
        "  # for later versions:\n",
        "  session_conf = tf.compat.v1.ConfigProto(intra_op_parallelism_threads=1, inter_op_parallelism_threads=1)\n",
        "  sess = tf.compat.v1.Session(graph=tf.compat.v1.get_default_graph(), config=session_conf)\n",
        "  tf.compat.v1.keras.backend.set_session(sess)\n",
        "  n_features = best_train_features_balanced.shape[1]\n",
        "  from tensorflow.keras.layers import BatchNormalization\n",
        "  from keras.layers import Activation, Dense\n",
        "  from tensorflow.keras.models import Sequential\n",
        "  from tensorflow.keras.layers import Dense, Dropout\n",
        "  from tensorflow.keras.optimizers import SGD\n",
        "  from tensorflow.keras.callbacks import TensorBoard\n",
        "  from tensorflow.keras.utils import to_categorical\n",
        "  from tensorflow.keras.callbacks import EarlyStopping\n",
        "  from tensorflow.keras import regularizers\n",
        "  from datetime import datetime\n",
        "  model = Sequential()\n",
        "  model.add(Dense(492, activation='relu', input_shape=(n_features,)))\n",
        "  model.add(BatchNormalization(axis=-1, epsilon=0.001, beta_initializer='zeros', gamma_initializer='ones'))\n",
        "  model.add(Dropout(0.25)) ###using dropout\n",
        "  model.add(Dense(328, activation='relu'))\n",
        "  model.add(BatchNormalization(axis=-1, epsilon=0.001, beta_initializer='zeros', gamma_initializer='ones'))\n",
        "  model.add(Dropout(0.25)) ###using dropout\n",
        "  model.add(Dense(82, activation='relu'))\n",
        "  model.add(BatchNormalization(axis=-1, epsilon=0.001, beta_initializer='zeros', gamma_initializer='ones'))\n",
        "  model.add(Dropout(0.25))\n",
        "  model.add(Dense(1, activation='sigmoid'))\n",
        "  model.compile(loss='categorical_crossentropy', optimizer=SGD(lr=0.001), metrics=['Precision'])\n",
        "  history = model.fit(best_train_features_balanced, train_labels_balanced, epochs=300, batch_size=450, verbose=0)"
      ],
      "metadata": {
        "id": "L3EYriEfwfBJ"
      },
      "execution_count": 188,
      "outputs": []
    },
    {
      "cell_type": "code",
      "source": [
        "print(model.summary())"
      ],
      "metadata": {
        "colab": {
          "base_uri": "https://localhost:8080/"
        },
        "id": "00QPnObYUmo1",
        "outputId": "b737488f-6037-407a-deed-205ae357df23"
      },
      "execution_count": 189,
      "outputs": [
        {
          "output_type": "stream",
          "name": "stdout",
          "text": [
            "Model: \"sequential_3\"\n",
            "_________________________________________________________________\n",
            " Layer (type)                Output Shape              Param #   \n",
            "=================================================================\n",
            " dense_12 (Dense)            (None, 492)               24108     \n",
            "                                                                 \n",
            " batch_normalization_9 (Batc  (None, 492)              1968      \n",
            " hNormalization)                                                 \n",
            "                                                                 \n",
            " dropout_9 (Dropout)         (None, 492)               0         \n",
            "                                                                 \n",
            " dense_13 (Dense)            (None, 328)               161704    \n",
            "                                                                 \n",
            " batch_normalization_10 (Bat  (None, 328)              1312      \n",
            " chNormalization)                                                \n",
            "                                                                 \n",
            " dropout_10 (Dropout)        (None, 328)               0         \n",
            "                                                                 \n",
            " dense_14 (Dense)            (None, 82)                26978     \n",
            "                                                                 \n",
            " batch_normalization_11 (Bat  (None, 82)               328       \n",
            " chNormalization)                                                \n",
            "                                                                 \n",
            " dropout_11 (Dropout)        (None, 82)                0         \n",
            "                                                                 \n",
            " dense_15 (Dense)            (None, 1)                 83        \n",
            "                                                                 \n",
            "=================================================================\n",
            "Total params: 216,481\n",
            "Trainable params: 214,677\n",
            "Non-trainable params: 1,804\n",
            "_________________________________________________________________\n",
            "None\n"
          ]
        }
      ]
    },
    {
      "cell_type": "code",
      "source": [
        "from keras.utils.vis_utils import plot_model\n",
        "#plot_model(model, to_file='model_plot.png', show_shapes=True, show_layer_names=True)\n",
        "tf.keras.utils.plot_model(\n",
        "model, to_file='model.png', show_shapes=True, show_dtype=False,\n",
        "show_layer_names=True, rankdir='TB', expand_nested=False, dpi=80\n",
        ")"
      ],
      "metadata": {
        "colab": {
          "base_uri": "https://localhost:8080/",
          "height": 1000
        },
        "id": "nYuBX954VZlB",
        "outputId": "6a1e1bb4-5e79-493d-b061-6c135073e883"
      },
      "execution_count": 190,
      "outputs": [
        {
          "output_type": "execute_result",
          "data": {
            "image/png": "[encoded data removed]",
            "text/plain": [
              "<IPython.core.display.Image object>"
            ]
          },
          "metadata": {},
          "execution_count": 190
        }
      ]
    },
    {
      "cell_type": "code",
      "source": [
        "from matplotlib import pyplot as plt\n",
        "\n",
        "from google. colab import files\n",
        "plt.savefig(\"model_plot.png\")\n",
        "files.download(\"model_plot.png\")\n",
        "\n",
        "\n"
      ],
      "metadata": {
        "colab": {
          "base_uri": "https://localhost:8080/",
          "height": 34
        },
        "id": "wE7HNi5sUNSh",
        "outputId": "6828c160-c4e6-4813-c1db-c9aee2ddac67"
      },
      "execution_count": 107,
      "outputs": [
        {
          "output_type": "display_data",
          "data": {
            "text/plain": [
              "<IPython.core.display.Javascript object>"
            ],
            "application/javascript": [
              "\n",
              "    async function download(id, filename, size) {\n",
              "      if (!google.colab.kernel.accessAllowed) {\n",
              "        return;\n",
              "      }\n",
              "      const div = document.createElement('div');\n",
              "      const label = document.createElement('label');\n",
              "      label.textContent = `Downloading \"${filename}\": `;\n",
              "      div.appendChild(label);\n",
              "      const progress = document.createElement('progress');\n",
              "      progress.max = size;\n",
              "      div.appendChild(progress);\n",
              "      document.body.appendChild(div);\n",
              "\n",
              "      const buffers = [];\n",
              "      let downloaded = 0;\n",
              "\n",
              "      const channel = await google.colab.kernel.comms.open(id);\n",
              "      // Send a message to notify the kernel that we're ready.\n",
              "      channel.send({})\n",
              "\n",
              "      for await (const message of channel.messages) {\n",
              "        // Send a message to notify the kernel that we're ready.\n",
              "        channel.send({})\n",
              "        if (message.buffers) {\n",
              "          for (const buffer of message.buffers) {\n",
              "            buffers.push(buffer);\n",
              "            downloaded += buffer.byteLength;\n",
              "            progress.value = downloaded;\n",
              "          }\n",
              "        }\n",
              "      }\n",
              "      const blob = new Blob(buffers, {type: 'application/binary'});\n",
              "      const a = document.createElement('a');\n",
              "      a.href = window.URL.createObjectURL(blob);\n",
              "      a.download = filename;\n",
              "      div.appendChild(a);\n",
              "      a.click();\n",
              "      div.remove();\n",
              "    }\n",
              "  "
            ]
          },
          "metadata": {}
        },
        {
          "output_type": "display_data",
          "data": {
            "text/plain": [
              "<IPython.core.display.Javascript object>"
            ],
            "application/javascript": [
              "download(\"download_c5ff0e13-f83b-4feb-8d3f-bee8a258c01b\", \"model_plot.png\", 1273)"
            ]
          },
          "metadata": {}
        },
        {
          "output_type": "display_data",
          "data": {
            "text/plain": [
              "<Figure size 432x288 with 0 Axes>"
            ]
          },
          "metadata": {}
        }
      ]
    },
    {
      "cell_type": "markdown",
      "metadata": {
        "id": "XWVH20cC86tV"
      },
      "source": [
        "## Prediction"
      ]
    },
    {
      "cell_type": "code",
      "execution_count": 108,
      "metadata": {
        "collapsed": true,
        "id": "ydeNPe3C86tV"
      },
      "outputs": [],
      "source": [
        "# to enable change feature selection method\n",
        "best_test_features = test_features  "
      ]
    },
    {
      "cell_type": "markdown",
      "metadata": {
        "id": "wZPYRUJi86tV"
      },
      "source": [
        "### Apply scalling over test data"
      ]
    },
    {
      "cell_type": "code",
      "execution_count": null,
      "metadata": {
        "collapsed": true,
        "id": "ej7fEWFa86tW"
      },
      "outputs": [],
      "source": [
        "from sklearn.preprocessing import StandardScaler\n",
        "if enable_normalization:\n",
        "    scaler.transform(best_test_features)\n",
        "    best_test_features = pd.DataFrame(scaler.transform(best_test_features), columns=best_test_features.columns)"
      ]
    },
    {
      "cell_type": "markdown",
      "metadata": {
        "id": "i16d08x086tW"
      },
      "source": [
        "### Apply feature selection over test data"
      ]
    },
    {
      "cell_type": "code",
      "execution_count": null,
      "metadata": {
        "collapsed": true,
        "id": "nKLpznsC86tW"
      },
      "outputs": [],
      "source": [
        "if enable_univariate_selec:\n",
        "    if method_selec=='selectkbest':        \n",
        "        X = selectKBest.transform(best_test_features)\n",
        "        idxs_selected = selectKBest.get_support(indices=True)\n",
        "        best_test_features = best_test_features.iloc[:,idxs_selected]\n",
        "    if method_selec=='pca':        \n",
        "        best_test_features = pca.transform(best_test_features)\n",
        "if enable_correlation_selec:\n",
        "    best_test_features = best_test_features.loc[:,new_new_corr_matrix.columns]"
      ]
    },
    {
      "cell_type": "markdown",
      "metadata": {
        "id": "IbokxheG86tW"
      },
      "source": [
        "### Processing labels"
      ]
    },
    {
      "cell_type": "markdown",
      "metadata": {
        "id": "fVpuItyg86tW"
      },
      "source": [
        "As same as done with train labels."
      ]
    },
    {
      "cell_type": "code",
      "execution_count": null,
      "metadata": {
        "collapsed": true,
        "id": "39swV7pv86tW"
      },
      "outputs": [],
      "source": [
        "test_labels = test_labels.apply(round)\n",
        "test_labels = test_labels.replace({-1:0})"
      ]
    },
    {
      "cell_type": "markdown",
      "metadata": {
        "id": "zX1bz9T286tW"
      },
      "source": [
        "### Make prediction with trainned model choosen and show report"
      ]
    },
    {
      "cell_type": "code",
      "source": [],
      "metadata": {
        "id": "XZsUh1hNwUcY"
      },
      "execution_count": null,
      "outputs": []
    },
    {
      "cell_type": "code",
      "execution_count": null,
      "metadata": {
        "id": "Q_KDBhpDDBaL",
        "colab": {
          "base_uri": "https://localhost:8080/"
        },
        "outputId": "0f95c27f-e3b5-4c03-f729-599cdc90da7c"
      },
      "outputs": [
        {
          "output_type": "stream",
          "name": "stdout",
          "text": [
            "500/500 [==============================] - 1s 2ms/step\n"
          ]
        }
      ],
      "source": [
        "if ml_method=='mlp':\n",
        "  seed_value= 4\n",
        "  # fit the model\n",
        "  y_pred = model.predict(best_test_features)\n",
        "  y_pred = np.round(y_pred)\n",
        "  report = classification_report(test_labels, y_pred)"
      ]
    },
    {
      "cell_type": "code",
      "source": [
        "if ml_method=='mlp1':\n",
        "  # fit the model\n",
        "  y_pred = model.predict(best_test_features)\n",
        "  y_pred = np.round(y_pred)\n",
        "  report = classification_report(test_labels, y_pred)"
      ],
      "metadata": {
        "id": "WN8M_yJAmJ_3"
      },
      "execution_count": null,
      "outputs": []
    },
    {
      "cell_type": "markdown",
      "metadata": {
        "id": "LDPKxveN86tX"
      },
      "source": [
        "### Show confusion matrix\n",
        "Ref.\n",
        "http://scikit-learn.org/stable/modules/generated/sklearn.metrics.confusion_matrix.html"
      ]
    },
    {
      "cell_type": "code",
      "execution_count": null,
      "metadata": {
        "collapsed": true,
        "id": "EpaIvf1O86tX",
        "colab": {
          "base_uri": "https://localhost:8080/",
          "height": 81
        },
        "outputId": "8795e347-4059-4558-ca71-2d12fbd1333b"
      },
      "outputs": [
        {
          "output_type": "display_data",
          "data": {
            "text/plain": [
              "      tn   fp  fn   tp\n",
              "0  14786  839  11  364"
            ],
            "text/html": [
              "\n",
              "  <div id=\"df-e27b34e3-f022-468b-b03a-bc245778504b\">\n",
              "    <div class=\"colab-df-container\">\n",
              "      <div>\n",
              "<style scoped>\n",
              "    .dataframe tbody tr th:only-of-type {\n",
              "        vertical-align: middle;\n",
              "    }\n",
              "\n",
              "    .dataframe tbody tr th {\n",
              "        vertical-align: top;\n",
              "    }\n",
              "\n",
              "    .dataframe thead th {\n",
              "        text-align: right;\n",
              "    }\n",
              "</style>\n",
              "<table border=\"1\" class=\"dataframe\">\n",
              "  <thead>\n",
              "    <tr style=\"text-align: right;\">\n",
              "      <th></th>\n",
              "      <th>tn</th>\n",
              "      <th>fp</th>\n",
              "      <th>fn</th>\n",
              "      <th>tp</th>\n",
              "    </tr>\n",
              "  </thead>\n",
              "  <tbody>\n",
              "    <tr>\n",
              "      <th>0</th>\n",
              "      <td>14786</td>\n",
              "      <td>839</td>\n",
              "      <td>11</td>\n",
              "      <td>364</td>\n",
              "    </tr>\n",
              "  </tbody>\n",
              "</table>\n",
              "</div>\n",
              "      <button class=\"colab-df-convert\" onclick=\"convertToInteractive('df-e27b34e3-f022-468b-b03a-bc245778504b')\"\n",
              "              title=\"Convert this dataframe to an interactive table.\"\n",
              "              style=\"display:none;\">\n",
              "        \n",
              "  <svg xmlns=\"http://www.w3.org/2000/svg\" height=\"24px\"viewBox=\"0 0 24 24\"\n",
              "       width=\"24px\">\n",
              "    <path d=\"M0 0h24v24H0V0z\" fill=\"none\"/>\n",
              "    <path d=\"M18.56 5.44l.94 2.06.94-2.06 2.06-.94-2.06-.94-.94-2.06-.94 2.06-2.06.94zm-11 1L8.5 8.5l.94-2.06 2.06-.94-2.06-.94L8.5 2.5l-.94 2.06-2.06.94zm10 10l.94 2.06.94-2.06 2.06-.94-2.06-.94-.94-2.06-.94 2.06-2.06.94z\"/><path d=\"M17.41 7.96l-1.37-1.37c-.4-.4-.92-.59-1.43-.59-.52 0-1.04.2-1.43.59L10.3 9.45l-7.72 7.72c-.78.78-.78 2.05 0 2.83L4 21.41c.39.39.9.59 1.41.59.51 0 1.02-.2 1.41-.59l7.78-7.78 2.81-2.81c.8-.78.8-2.07 0-2.86zM5.41 20L4 18.59l7.72-7.72 1.47 1.35L5.41 20z\"/>\n",
              "  </svg>\n",
              "      </button>\n",
              "      \n",
              "  <style>\n",
              "    .colab-df-container {\n",
              "      display:flex;\n",
              "      flex-wrap:wrap;\n",
              "      gap: 12px;\n",
              "    }\n",
              "\n",
              "    .colab-df-convert {\n",
              "      background-color: #E8F0FE;\n",
              "      border: none;\n",
              "      border-radius: 50%;\n",
              "      cursor: pointer;\n",
              "      display: none;\n",
              "      fill: #1967D2;\n",
              "      height: 32px;\n",
              "      padding: 0 0 0 0;\n",
              "      width: 32px;\n",
              "    }\n",
              "\n",
              "    .colab-df-convert:hover {\n",
              "      background-color: #E2EBFA;\n",
              "      box-shadow: 0px 1px 2px rgba(60, 64, 67, 0.3), 0px 1px 3px 1px rgba(60, 64, 67, 0.15);\n",
              "      fill: #174EA6;\n",
              "    }\n",
              "\n",
              "    [theme=dark] .colab-df-convert {\n",
              "      background-color: #3B4455;\n",
              "      fill: #D2E3FC;\n",
              "    }\n",
              "\n",
              "    [theme=dark] .colab-df-convert:hover {\n",
              "      background-color: #434B5C;\n",
              "      box-shadow: 0px 1px 3px 1px rgba(0, 0, 0, 0.15);\n",
              "      filter: drop-shadow(0px 1px 2px rgba(0, 0, 0, 0.3));\n",
              "      fill: #FFFFFF;\n",
              "    }\n",
              "  </style>\n",
              "\n",
              "      <script>\n",
              "        const buttonEl =\n",
              "          document.querySelector('#df-e27b34e3-f022-468b-b03a-bc245778504b button.colab-df-convert');\n",
              "        buttonEl.style.display =\n",
              "          google.colab.kernel.accessAllowed ? 'block' : 'none';\n",
              "\n",
              "        async function convertToInteractive(key) {\n",
              "          const element = document.querySelector('#df-e27b34e3-f022-468b-b03a-bc245778504b');\n",
              "          const dataTable =\n",
              "            await google.colab.kernel.invokeFunction('convertToInteractive',\n",
              "                                                     [key], {});\n",
              "          if (!dataTable) return;\n",
              "\n",
              "          const docLinkHtml = 'Like what you see? Visit the ' +\n",
              "            '<a target=\"_blank\" href=https://colab.research.google.com/notebooks/data_table.ipynb>data table notebook</a>'\n",
              "            + ' to learn more about interactive tables.';\n",
              "          element.innerHTML = '';\n",
              "          dataTable['output_type'] = 'display_data';\n",
              "          await google.colab.output.renderOutput(dataTable, element);\n",
              "          const docLink = document.createElement('div');\n",
              "          docLink.innerHTML = docLinkHtml;\n",
              "          element.appendChild(docLink);\n",
              "        }\n",
              "      </script>\n",
              "    </div>\n",
              "  </div>\n",
              "  "
            ]
          },
          "metadata": {}
        }
      ],
      "source": [
        "cm = confusion_matrix(test_labels, y_pred).ravel()\n",
        "cm = pd.DataFrame(cm.reshape((1,4)), columns=['tn', 'fp', 'fn', 'tp'])\n",
        "display(cm)"
      ]
    },
    {
      "cell_type": "markdown",
      "metadata": {
        "id": "jSfO-cMf86tX"
      },
      "source": [
        "### Show total cost obtained"
      ]
    },
    {
      "cell_type": "code",
      "execution_count": null,
      "metadata": {
        "collapsed": true,
        "id": "UZj6Z5jP86tX",
        "colab": {
          "base_uri": "https://localhost:8080/",
          "height": 100
        },
        "outputId": "d6abf1ff-e9fb-4ae0-e651-62f2304e677e"
      },
      "outputs": [
        {
          "output_type": "display_data",
          "data": {
            "text/plain": [
              "<IPython.core.display.Markdown object>"
            ],
            "text/markdown": "Total cost is: \n# <p><span style=\"color:purple\">$13890.0</span></p>"
          },
          "metadata": {}
        }
      ],
      "source": [
        "total_cost = 10*cm.fp + 500*cm.fn\n",
        "def printmd(string):\n",
        "    display(Markdown(string))\n",
        "printmd(f'Total cost is: \\n# <p><span style=\"color:purple\">${float(total_cost.values[0])}</span></p>')\n"
      ]
    },
    {
      "cell_type": "code",
      "execution_count": null,
      "metadata": {
        "id": "QQr8MKQOPYwa",
        "colab": {
          "base_uri": "https://localhost:8080/"
        },
        "outputId": "2e3095b5-61d3-43a0-d773-321e46be91f9"
      },
      "outputs": [
        {
          "output_type": "stream",
          "name": "stdout",
          "text": [
            "Accuracy: 0.946875\n",
            "Precision: 0.302577\n",
            "Recall: 0.970667\n",
            "F1 score: 0.461343\n"
          ]
        }
      ],
      "source": [
        "from sklearn.metrics import accuracy_score, precision_score, recall_score, f1_score\n",
        "# accuracy: (tp + tn) / (p + n)\n",
        "accuracy = accuracy_score(test_labels, y_pred)\n",
        "print('Accuracy: %f' % accuracy)\n",
        "# precision tp / (tp + fp)\n",
        "precision = precision_score(test_labels, y_pred)\n",
        "print('Precision: %f' % precision)\n",
        "# recall: tp / (tp + fn)\n",
        "recall = recall_score(test_labels, y_pred)\n",
        "print('Recall: %f' % recall)\n",
        "# f1: 2 tp / (2 tp + fp + fn)\n",
        "f1 = f1_score(test_labels, y_pred)\n",
        "print('F1 score: %f' % f1)"
      ]
    },
    {
      "cell_type": "code",
      "execution_count": null,
      "metadata": {
        "id": "JtfMTR3NQAQ1"
      },
      "outputs": [],
      "source": []
    },
    {
      "cell_type": "code",
      "source": [
        "print(\"Ratio of memory usage in bytes (original to reduced): {:.5f}\".format(train_features.memory_usage().sum() / best_train_features_balanced.memory_usage().sum()))"
      ],
      "metadata": {
        "colab": {
          "base_uri": "https://localhost:8080/"
        },
        "id": "AaeHyOFViZNH",
        "outputId": "e51a343e-efae-4311-a538-94c2936d1038"
      },
      "execution_count": null,
      "outputs": [
        {
          "output_type": "stream",
          "name": "stdout",
          "text": [
            "Ratio of memory usage in bytes (original to reduced): 60.70860\n"
          ]
        }
      ]
    },
    {
      "cell_type": "code",
      "source": [
        "#Random undersampling along with feature selection = false\n",
        "# Accuracy: 0.958750\n",
        "# Precision: 0.357926\n",
        "# Recall: 0.957333\n",
        "# F1 score: 0.521045\n",
        "# # Ratio of memory usage in bytes (original to reduced): 17.04%\n",
        "#cost = 14440\n",
        "\n",
        "#Random undersampling along with feature selection = True (k best_ mutual_info_classif)\n",
        "# Accuracy: 0.961063\n",
        "# Precision: 0.372690\n",
        "# Recall: 0.968000\n",
        "# F1 score: 0.538176\n",
        "# Ratio of memory usage in bytes (original to reduced): 34.28577\n",
        "# cost : 12110\n",
        "\n",
        "#Random undersampling along with feature selection = True (k best_ chi2)\n",
        "# Accuracy: 0.961187\n",
        "# Precision: 0.373457\n",
        "# Recall: 0.968000\n",
        "# F1 score: 0.538976\n",
        "#Ratio of memory usage in bytes (original to reduced): 34.28577\n",
        "# cost : 12090\n",
        "\n",
        "\n",
        "#Random undersampling along with feature selection = true(PCA)\n",
        "# Accuracy: 0.956375\n",
        "# Precision: 0.345158\n",
        "# Recall: 0.960000\n",
        "# F1 score: 0.507757\n",
        "# Ratio of memory usage in bytes (original to reduced): 59.47531\n",
        "# Cost : 14330\n",
        "\n",
        "#Random undersampling with 1: 1 Ratio along with feature selection = false\n",
        "#Accuracy: 0.943375\n",
        "#Precision: 0.289118\n",
        "#Recall: 0.970667\n",
        "#F1 score: 0.445532\n",
        "#Ratio of memory usage in bytes (original to reduced): 29.99864\n",
        "#cost : $14450.0\n",
        "\n",
        "\n",
        "\n",
        "#Random undersampling with 1: 1 Ratio along with feature selection = true(select k best):mutualinfo\n",
        "# Accuracy: 0.946875\n",
        "# Precision: 0.302577\n",
        "# Recall: 0.970667\n",
        "# F1 score: 0.461343\n",
        "#Ratio of memory usage in bytes (original to reduced): 60.70860\n",
        "# cost : 13890\n",
        "\n",
        "#Random undersampling with 1: 1 Ratio along with feature selection = true(select k best):chi2\n",
        "# Accuracy: 0.946937\n",
        "# Precision: 0.302829\n",
        "# Recall: 0.970667\n",
        "# F1 score: 0.461636\n",
        "# Ratio of memory usage in bytes (original to reduced): 60.70860\n",
        "# cost : 13880.0\n",
        "\n",
        "\n",
        "#Random undersampling with 1: 1 Ratio along with feature selection = true(pca)\n",
        "# Accuracy: 0.941438\n",
        "# Precision: 0.282844\n",
        "# Recall: 0.976000\n",
        "# F1 score: 0.438586\n",
        "# Ratio of memory usage in bytes (original to reduced): 106.23246\n",
        "#cost : $13780.0\n",
        "\n",
        "\n",
        "\n"
      ],
      "metadata": {
        "id": "aDZW-GNQifhS"
      },
      "execution_count": null,
      "outputs": []
    },
    {
      "cell_type": "code",
      "source": [],
      "metadata": {
        "id": "JMSKCTs8bitK"
      },
      "execution_count": null,
      "outputs": []
    }
  ],
  "metadata": {
    "colab": {
      "provenance": []
    },
    "kernelspec": {
      "display_name": "Python 3",
      "language": "python",
      "name": "python3"
    },
    "language_info": {
      "codemirror_mode": {
        "name": "ipython",
        "version": 3
      },
      "file_extension": ".py",
      "mimetype": "text/x-python",
      "name": "python",
      "nbconvert_exporter": "python",
      "pygments_lexer": "ipython3",
      "version": "3.6.4"
    },
    "accelerator": "GPU",
    "gpuClass": "standard"
  },
  "nbformat": 4,
  "nbformat_minor": 0
}